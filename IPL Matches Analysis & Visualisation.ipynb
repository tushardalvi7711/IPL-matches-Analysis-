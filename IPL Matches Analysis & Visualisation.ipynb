{
 "cells": [
  {
   "cell_type": "markdown",
   "id": "a15da84d",
   "metadata": {},
   "source": [
    "## Author - Tushar Dalvi  "
   ]
  },
  {
   "cell_type": "markdown",
   "id": "bd0b805f",
   "metadata": {},
   "source": [
    "## Project Name - IPL Matches Analysis"
   ]
  },
  {
   "cell_type": "code",
   "execution_count": 1,
   "id": "b6d32faa",
   "metadata": {},
   "outputs": [],
   "source": [
    "#importing all modules as required\n",
    "import pandas as pd\n",
    "import numpy as np\n",
    "import matplotlib.pyplot as plt\n",
    "import seaborn as sns"
   ]
  },
  {
   "cell_type": "code",
   "execution_count": 2,
   "id": "3677415b",
   "metadata": {},
   "outputs": [],
   "source": [
    "#reading the dataset through pandas, which is shortly noted as pd\n",
    "matches = pd.read_csv(\"matches data set.csv\")"
   ]
  },
  {
   "cell_type": "code",
   "execution_count": 3,
   "id": "e921bf98",
   "metadata": {},
   "outputs": [
    {
     "name": "stdout",
     "output_type": "stream",
     "text": [
      "<class 'pandas.core.frame.DataFrame'>\n",
      "RangeIndex: 756 entries, 0 to 755\n",
      "Data columns (total 18 columns):\n",
      " #   Column           Non-Null Count  Dtype \n",
      "---  ------           --------------  ----- \n",
      " 0   id               756 non-null    int64 \n",
      " 1   Season           756 non-null    object\n",
      " 2   city             749 non-null    object\n",
      " 3   date             756 non-null    object\n",
      " 4   team1            756 non-null    object\n",
      " 5   team2            756 non-null    object\n",
      " 6   toss_winner      756 non-null    object\n",
      " 7   toss_decision    756 non-null    object\n",
      " 8   result           756 non-null    object\n",
      " 9   dl_applied       756 non-null    int64 \n",
      " 10  winner           752 non-null    object\n",
      " 11  win_by_runs      756 non-null    int64 \n",
      " 12  win_by_wickets   756 non-null    int64 \n",
      " 13  player_of_match  752 non-null    object\n",
      " 14  venue            756 non-null    object\n",
      " 15  umpire1          754 non-null    object\n",
      " 16  umpire2          754 non-null    object\n",
      " 17  umpire3          119 non-null    object\n",
      "dtypes: int64(4), object(14)\n",
      "memory usage: 106.4+ KB\n"
     ]
    }
   ],
   "source": [
    "\"\"\"info is calling function which gives the information about the dataset contain,\n",
    "column_names and data_type and number of columns\"\"\"\n",
    "matches.info()\n"
   ]
  },
  {
   "cell_type": "code",
   "execution_count": 4,
   "id": "2a9827b3",
   "metadata": {},
   "outputs": [
    {
     "data": {
      "text/html": [
       "<div>\n",
       "<style scoped>\n",
       "    .dataframe tbody tr th:only-of-type {\n",
       "        vertical-align: middle;\n",
       "    }\n",
       "\n",
       "    .dataframe tbody tr th {\n",
       "        vertical-align: top;\n",
       "    }\n",
       "\n",
       "    .dataframe thead th {\n",
       "        text-align: right;\n",
       "    }\n",
       "</style>\n",
       "<table border=\"1\" class=\"dataframe\">\n",
       "  <thead>\n",
       "    <tr style=\"text-align: right;\">\n",
       "      <th></th>\n",
       "      <th>id</th>\n",
       "      <th>Season</th>\n",
       "      <th>city</th>\n",
       "      <th>date</th>\n",
       "      <th>team1</th>\n",
       "      <th>team2</th>\n",
       "      <th>toss_winner</th>\n",
       "      <th>toss_decision</th>\n",
       "      <th>result</th>\n",
       "      <th>dl_applied</th>\n",
       "      <th>winner</th>\n",
       "      <th>win_by_runs</th>\n",
       "      <th>win_by_wickets</th>\n",
       "      <th>player_of_match</th>\n",
       "      <th>venue</th>\n",
       "      <th>umpire1</th>\n",
       "      <th>umpire2</th>\n",
       "      <th>umpire3</th>\n",
       "    </tr>\n",
       "  </thead>\n",
       "  <tbody>\n",
       "    <tr>\n",
       "      <th>count</th>\n",
       "      <td>756.000000</td>\n",
       "      <td>756</td>\n",
       "      <td>749</td>\n",
       "      <td>756</td>\n",
       "      <td>756</td>\n",
       "      <td>756</td>\n",
       "      <td>756</td>\n",
       "      <td>756</td>\n",
       "      <td>756</td>\n",
       "      <td>756.000000</td>\n",
       "      <td>752</td>\n",
       "      <td>756.000000</td>\n",
       "      <td>756.000000</td>\n",
       "      <td>752</td>\n",
       "      <td>756</td>\n",
       "      <td>754</td>\n",
       "      <td>754</td>\n",
       "      <td>119</td>\n",
       "    </tr>\n",
       "    <tr>\n",
       "      <th>unique</th>\n",
       "      <td>NaN</td>\n",
       "      <td>12</td>\n",
       "      <td>32</td>\n",
       "      <td>546</td>\n",
       "      <td>14</td>\n",
       "      <td>14</td>\n",
       "      <td>14</td>\n",
       "      <td>2</td>\n",
       "      <td>3</td>\n",
       "      <td>NaN</td>\n",
       "      <td>14</td>\n",
       "      <td>NaN</td>\n",
       "      <td>NaN</td>\n",
       "      <td>226</td>\n",
       "      <td>41</td>\n",
       "      <td>61</td>\n",
       "      <td>65</td>\n",
       "      <td>25</td>\n",
       "    </tr>\n",
       "    <tr>\n",
       "      <th>top</th>\n",
       "      <td>NaN</td>\n",
       "      <td>IPL-2013</td>\n",
       "      <td>Mumbai</td>\n",
       "      <td>05-05-2018</td>\n",
       "      <td>Mumbai Indians</td>\n",
       "      <td>Kolkata Knight Riders</td>\n",
       "      <td>Mumbai Indians</td>\n",
       "      <td>field</td>\n",
       "      <td>normal</td>\n",
       "      <td>NaN</td>\n",
       "      <td>Mumbai Indians</td>\n",
       "      <td>NaN</td>\n",
       "      <td>NaN</td>\n",
       "      <td>CH Gayle</td>\n",
       "      <td>Eden Gardens</td>\n",
       "      <td>HDPK Dharmasena</td>\n",
       "      <td>S Ravi</td>\n",
       "      <td>O Nandan</td>\n",
       "    </tr>\n",
       "    <tr>\n",
       "      <th>freq</th>\n",
       "      <td>NaN</td>\n",
       "      <td>76</td>\n",
       "      <td>101</td>\n",
       "      <td>2</td>\n",
       "      <td>101</td>\n",
       "      <td>95</td>\n",
       "      <td>98</td>\n",
       "      <td>463</td>\n",
       "      <td>743</td>\n",
       "      <td>NaN</td>\n",
       "      <td>109</td>\n",
       "      <td>NaN</td>\n",
       "      <td>NaN</td>\n",
       "      <td>21</td>\n",
       "      <td>77</td>\n",
       "      <td>73</td>\n",
       "      <td>57</td>\n",
       "      <td>10</td>\n",
       "    </tr>\n",
       "    <tr>\n",
       "      <th>mean</th>\n",
       "      <td>1792.178571</td>\n",
       "      <td>NaN</td>\n",
       "      <td>NaN</td>\n",
       "      <td>NaN</td>\n",
       "      <td>NaN</td>\n",
       "      <td>NaN</td>\n",
       "      <td>NaN</td>\n",
       "      <td>NaN</td>\n",
       "      <td>NaN</td>\n",
       "      <td>0.025132</td>\n",
       "      <td>NaN</td>\n",
       "      <td>13.283069</td>\n",
       "      <td>3.350529</td>\n",
       "      <td>NaN</td>\n",
       "      <td>NaN</td>\n",
       "      <td>NaN</td>\n",
       "      <td>NaN</td>\n",
       "      <td>NaN</td>\n",
       "    </tr>\n",
       "    <tr>\n",
       "      <th>std</th>\n",
       "      <td>3464.478148</td>\n",
       "      <td>NaN</td>\n",
       "      <td>NaN</td>\n",
       "      <td>NaN</td>\n",
       "      <td>NaN</td>\n",
       "      <td>NaN</td>\n",
       "      <td>NaN</td>\n",
       "      <td>NaN</td>\n",
       "      <td>NaN</td>\n",
       "      <td>0.156630</td>\n",
       "      <td>NaN</td>\n",
       "      <td>23.471144</td>\n",
       "      <td>3.387963</td>\n",
       "      <td>NaN</td>\n",
       "      <td>NaN</td>\n",
       "      <td>NaN</td>\n",
       "      <td>NaN</td>\n",
       "      <td>NaN</td>\n",
       "    </tr>\n",
       "    <tr>\n",
       "      <th>min</th>\n",
       "      <td>1.000000</td>\n",
       "      <td>NaN</td>\n",
       "      <td>NaN</td>\n",
       "      <td>NaN</td>\n",
       "      <td>NaN</td>\n",
       "      <td>NaN</td>\n",
       "      <td>NaN</td>\n",
       "      <td>NaN</td>\n",
       "      <td>NaN</td>\n",
       "      <td>0.000000</td>\n",
       "      <td>NaN</td>\n",
       "      <td>0.000000</td>\n",
       "      <td>0.000000</td>\n",
       "      <td>NaN</td>\n",
       "      <td>NaN</td>\n",
       "      <td>NaN</td>\n",
       "      <td>NaN</td>\n",
       "      <td>NaN</td>\n",
       "    </tr>\n",
       "    <tr>\n",
       "      <th>25%</th>\n",
       "      <td>189.750000</td>\n",
       "      <td>NaN</td>\n",
       "      <td>NaN</td>\n",
       "      <td>NaN</td>\n",
       "      <td>NaN</td>\n",
       "      <td>NaN</td>\n",
       "      <td>NaN</td>\n",
       "      <td>NaN</td>\n",
       "      <td>NaN</td>\n",
       "      <td>0.000000</td>\n",
       "      <td>NaN</td>\n",
       "      <td>0.000000</td>\n",
       "      <td>0.000000</td>\n",
       "      <td>NaN</td>\n",
       "      <td>NaN</td>\n",
       "      <td>NaN</td>\n",
       "      <td>NaN</td>\n",
       "      <td>NaN</td>\n",
       "    </tr>\n",
       "    <tr>\n",
       "      <th>50%</th>\n",
       "      <td>378.500000</td>\n",
       "      <td>NaN</td>\n",
       "      <td>NaN</td>\n",
       "      <td>NaN</td>\n",
       "      <td>NaN</td>\n",
       "      <td>NaN</td>\n",
       "      <td>NaN</td>\n",
       "      <td>NaN</td>\n",
       "      <td>NaN</td>\n",
       "      <td>0.000000</td>\n",
       "      <td>NaN</td>\n",
       "      <td>0.000000</td>\n",
       "      <td>4.000000</td>\n",
       "      <td>NaN</td>\n",
       "      <td>NaN</td>\n",
       "      <td>NaN</td>\n",
       "      <td>NaN</td>\n",
       "      <td>NaN</td>\n",
       "    </tr>\n",
       "    <tr>\n",
       "      <th>75%</th>\n",
       "      <td>567.250000</td>\n",
       "      <td>NaN</td>\n",
       "      <td>NaN</td>\n",
       "      <td>NaN</td>\n",
       "      <td>NaN</td>\n",
       "      <td>NaN</td>\n",
       "      <td>NaN</td>\n",
       "      <td>NaN</td>\n",
       "      <td>NaN</td>\n",
       "      <td>0.000000</td>\n",
       "      <td>NaN</td>\n",
       "      <td>19.000000</td>\n",
       "      <td>6.000000</td>\n",
       "      <td>NaN</td>\n",
       "      <td>NaN</td>\n",
       "      <td>NaN</td>\n",
       "      <td>NaN</td>\n",
       "      <td>NaN</td>\n",
       "    </tr>\n",
       "    <tr>\n",
       "      <th>max</th>\n",
       "      <td>11415.000000</td>\n",
       "      <td>NaN</td>\n",
       "      <td>NaN</td>\n",
       "      <td>NaN</td>\n",
       "      <td>NaN</td>\n",
       "      <td>NaN</td>\n",
       "      <td>NaN</td>\n",
       "      <td>NaN</td>\n",
       "      <td>NaN</td>\n",
       "      <td>1.000000</td>\n",
       "      <td>NaN</td>\n",
       "      <td>146.000000</td>\n",
       "      <td>10.000000</td>\n",
       "      <td>NaN</td>\n",
       "      <td>NaN</td>\n",
       "      <td>NaN</td>\n",
       "      <td>NaN</td>\n",
       "      <td>NaN</td>\n",
       "    </tr>\n",
       "  </tbody>\n",
       "</table>\n",
       "</div>"
      ],
      "text/plain": [
       "                  id    Season    city        date           team1  \\\n",
       "count     756.000000       756     749         756             756   \n",
       "unique           NaN        12      32         546              14   \n",
       "top              NaN  IPL-2013  Mumbai  05-05-2018  Mumbai Indians   \n",
       "freq             NaN        76     101           2             101   \n",
       "mean     1792.178571       NaN     NaN         NaN             NaN   \n",
       "std      3464.478148       NaN     NaN         NaN             NaN   \n",
       "min         1.000000       NaN     NaN         NaN             NaN   \n",
       "25%       189.750000       NaN     NaN         NaN             NaN   \n",
       "50%       378.500000       NaN     NaN         NaN             NaN   \n",
       "75%       567.250000       NaN     NaN         NaN             NaN   \n",
       "max     11415.000000       NaN     NaN         NaN             NaN   \n",
       "\n",
       "                        team2     toss_winner toss_decision  result  \\\n",
       "count                     756             756           756     756   \n",
       "unique                     14              14             2       3   \n",
       "top     Kolkata Knight Riders  Mumbai Indians         field  normal   \n",
       "freq                       95              98           463     743   \n",
       "mean                      NaN             NaN           NaN     NaN   \n",
       "std                       NaN             NaN           NaN     NaN   \n",
       "min                       NaN             NaN           NaN     NaN   \n",
       "25%                       NaN             NaN           NaN     NaN   \n",
       "50%                       NaN             NaN           NaN     NaN   \n",
       "75%                       NaN             NaN           NaN     NaN   \n",
       "max                       NaN             NaN           NaN     NaN   \n",
       "\n",
       "        dl_applied          winner  win_by_runs  win_by_wickets  \\\n",
       "count   756.000000             752   756.000000      756.000000   \n",
       "unique         NaN              14          NaN             NaN   \n",
       "top            NaN  Mumbai Indians          NaN             NaN   \n",
       "freq           NaN             109          NaN             NaN   \n",
       "mean      0.025132             NaN    13.283069        3.350529   \n",
       "std       0.156630             NaN    23.471144        3.387963   \n",
       "min       0.000000             NaN     0.000000        0.000000   \n",
       "25%       0.000000             NaN     0.000000        0.000000   \n",
       "50%       0.000000             NaN     0.000000        4.000000   \n",
       "75%       0.000000             NaN    19.000000        6.000000   \n",
       "max       1.000000             NaN   146.000000       10.000000   \n",
       "\n",
       "       player_of_match         venue          umpire1 umpire2   umpire3  \n",
       "count              752           756              754     754       119  \n",
       "unique             226            41               61      65        25  \n",
       "top           CH Gayle  Eden Gardens  HDPK Dharmasena  S Ravi  O Nandan  \n",
       "freq                21            77               73      57        10  \n",
       "mean               NaN           NaN              NaN     NaN       NaN  \n",
       "std                NaN           NaN              NaN     NaN       NaN  \n",
       "min                NaN           NaN              NaN     NaN       NaN  \n",
       "25%                NaN           NaN              NaN     NaN       NaN  \n",
       "50%                NaN           NaN              NaN     NaN       NaN  \n",
       "75%                NaN           NaN              NaN     NaN       NaN  \n",
       "max                NaN           NaN              NaN     NaN       NaN  "
      ]
     },
     "execution_count": 4,
     "metadata": {},
     "output_type": "execute_result"
    }
   ],
   "source": [
    "\"\"\"descibe is also a calling function which gives number of integer elements as count, mean,\n",
    "standard deviation, minimum value, 25% ,50%, 75% of data, maximum value and finally \n",
    "number of integer rows and columns\"\"\"\n",
    "#which will describe only integer values of data\n",
    "matches.describe(include = 'all')"
   ]
  },
  {
   "cell_type": "code",
   "execution_count": 5,
   "id": "ffbc1462",
   "metadata": {},
   "outputs": [
    {
     "data": {
      "text/plain": [
       "(756, 18)"
      ]
     },
     "execution_count": 5,
     "metadata": {},
     "output_type": "execute_result"
    }
   ],
   "source": [
    "#shape is used for to identify number of rows and columns in a dataset\n",
    "matches.shape\n"
   ]
  },
  {
   "cell_type": "code",
   "execution_count": 6,
   "id": "503f98d8",
   "metadata": {},
   "outputs": [
    {
     "data": {
      "text/html": [
       "<div>\n",
       "<style scoped>\n",
       "    .dataframe tbody tr th:only-of-type {\n",
       "        vertical-align: middle;\n",
       "    }\n",
       "\n",
       "    .dataframe tbody tr th {\n",
       "        vertical-align: top;\n",
       "    }\n",
       "\n",
       "    .dataframe thead th {\n",
       "        text-align: right;\n",
       "    }\n",
       "</style>\n",
       "<table border=\"1\" class=\"dataframe\">\n",
       "  <thead>\n",
       "    <tr style=\"text-align: right;\">\n",
       "      <th></th>\n",
       "      <th>id</th>\n",
       "      <th>Season</th>\n",
       "      <th>city</th>\n",
       "      <th>date</th>\n",
       "      <th>team1</th>\n",
       "      <th>team2</th>\n",
       "      <th>toss_winner</th>\n",
       "      <th>toss_decision</th>\n",
       "      <th>result</th>\n",
       "      <th>dl_applied</th>\n",
       "      <th>winner</th>\n",
       "      <th>win_by_runs</th>\n",
       "      <th>win_by_wickets</th>\n",
       "      <th>player_of_match</th>\n",
       "      <th>venue</th>\n",
       "      <th>umpire1</th>\n",
       "      <th>umpire2</th>\n",
       "      <th>umpire3</th>\n",
       "    </tr>\n",
       "  </thead>\n",
       "  <tbody>\n",
       "    <tr>\n",
       "      <th>0</th>\n",
       "      <td>1</td>\n",
       "      <td>IPL-2017</td>\n",
       "      <td>Hyderabad</td>\n",
       "      <td>05-04-2017</td>\n",
       "      <td>Sunrisers Hyderabad</td>\n",
       "      <td>Royal Challengers Bangalore</td>\n",
       "      <td>Royal Challengers Bangalore</td>\n",
       "      <td>field</td>\n",
       "      <td>normal</td>\n",
       "      <td>0</td>\n",
       "      <td>Sunrisers Hyderabad</td>\n",
       "      <td>35</td>\n",
       "      <td>0</td>\n",
       "      <td>Yuvraj Singh</td>\n",
       "      <td>Rajiv Gandhi International Stadium, Uppal</td>\n",
       "      <td>AY Dandekar</td>\n",
       "      <td>NJ Llong</td>\n",
       "      <td>NaN</td>\n",
       "    </tr>\n",
       "    <tr>\n",
       "      <th>1</th>\n",
       "      <td>2</td>\n",
       "      <td>IPL-2017</td>\n",
       "      <td>Pune</td>\n",
       "      <td>06-04-2017</td>\n",
       "      <td>Mumbai Indians</td>\n",
       "      <td>Rising Pune Supergiants</td>\n",
       "      <td>Rising Pune Supergiants</td>\n",
       "      <td>field</td>\n",
       "      <td>normal</td>\n",
       "      <td>0</td>\n",
       "      <td>Rising Pune Supergiants</td>\n",
       "      <td>0</td>\n",
       "      <td>7</td>\n",
       "      <td>SPD Smith</td>\n",
       "      <td>Maharashtra Cricket Association Stadium</td>\n",
       "      <td>A Nand Kishore</td>\n",
       "      <td>S Ravi</td>\n",
       "      <td>NaN</td>\n",
       "    </tr>\n",
       "    <tr>\n",
       "      <th>2</th>\n",
       "      <td>3</td>\n",
       "      <td>IPL-2017</td>\n",
       "      <td>Rajkot</td>\n",
       "      <td>07-04-2017</td>\n",
       "      <td>Gujarat Lions</td>\n",
       "      <td>Kolkata Knight Riders</td>\n",
       "      <td>Kolkata Knight Riders</td>\n",
       "      <td>field</td>\n",
       "      <td>normal</td>\n",
       "      <td>0</td>\n",
       "      <td>Kolkata Knight Riders</td>\n",
       "      <td>0</td>\n",
       "      <td>10</td>\n",
       "      <td>CA Lynn</td>\n",
       "      <td>Saurashtra Cricket Association Stadium</td>\n",
       "      <td>Nitin Menon</td>\n",
       "      <td>CK Nandan</td>\n",
       "      <td>NaN</td>\n",
       "    </tr>\n",
       "    <tr>\n",
       "      <th>3</th>\n",
       "      <td>4</td>\n",
       "      <td>IPL-2017</td>\n",
       "      <td>Indore</td>\n",
       "      <td>08-04-2017</td>\n",
       "      <td>Rising Pune Supergiants</td>\n",
       "      <td>Kings XI Punjab</td>\n",
       "      <td>Kings XI Punjab</td>\n",
       "      <td>field</td>\n",
       "      <td>normal</td>\n",
       "      <td>0</td>\n",
       "      <td>Kings XI Punjab</td>\n",
       "      <td>0</td>\n",
       "      <td>6</td>\n",
       "      <td>GJ Maxwell</td>\n",
       "      <td>Holkar Cricket Stadium</td>\n",
       "      <td>AK Chaudhary</td>\n",
       "      <td>C Shamshuddin</td>\n",
       "      <td>NaN</td>\n",
       "    </tr>\n",
       "    <tr>\n",
       "      <th>4</th>\n",
       "      <td>5</td>\n",
       "      <td>IPL-2017</td>\n",
       "      <td>Bangalore</td>\n",
       "      <td>08-04-2017</td>\n",
       "      <td>Royal Challengers Bangalore</td>\n",
       "      <td>Delhi Daredevils</td>\n",
       "      <td>Royal Challengers Bangalore</td>\n",
       "      <td>bat</td>\n",
       "      <td>normal</td>\n",
       "      <td>0</td>\n",
       "      <td>Royal Challengers Bangalore</td>\n",
       "      <td>15</td>\n",
       "      <td>0</td>\n",
       "      <td>KM Jadhav</td>\n",
       "      <td>M Chinnaswamy Stadium</td>\n",
       "      <td>NaN</td>\n",
       "      <td>NaN</td>\n",
       "      <td>NaN</td>\n",
       "    </tr>\n",
       "  </tbody>\n",
       "</table>\n",
       "</div>"
      ],
      "text/plain": [
       "   id    Season       city        date                        team1  \\\n",
       "0   1  IPL-2017  Hyderabad  05-04-2017          Sunrisers Hyderabad   \n",
       "1   2  IPL-2017       Pune  06-04-2017               Mumbai Indians   \n",
       "2   3  IPL-2017     Rajkot  07-04-2017                Gujarat Lions   \n",
       "3   4  IPL-2017     Indore  08-04-2017      Rising Pune Supergiants   \n",
       "4   5  IPL-2017  Bangalore  08-04-2017  Royal Challengers Bangalore   \n",
       "\n",
       "                         team2                  toss_winner toss_decision  \\\n",
       "0  Royal Challengers Bangalore  Royal Challengers Bangalore         field   \n",
       "1      Rising Pune Supergiants      Rising Pune Supergiants         field   \n",
       "2        Kolkata Knight Riders        Kolkata Knight Riders         field   \n",
       "3              Kings XI Punjab              Kings XI Punjab         field   \n",
       "4             Delhi Daredevils  Royal Challengers Bangalore           bat   \n",
       "\n",
       "   result  dl_applied                       winner  win_by_runs  \\\n",
       "0  normal           0          Sunrisers Hyderabad           35   \n",
       "1  normal           0      Rising Pune Supergiants            0   \n",
       "2  normal           0        Kolkata Knight Riders            0   \n",
       "3  normal           0              Kings XI Punjab            0   \n",
       "4  normal           0  Royal Challengers Bangalore           15   \n",
       "\n",
       "   win_by_wickets player_of_match                                      venue  \\\n",
       "0               0    Yuvraj Singh  Rajiv Gandhi International Stadium, Uppal   \n",
       "1               7       SPD Smith    Maharashtra Cricket Association Stadium   \n",
       "2              10         CA Lynn     Saurashtra Cricket Association Stadium   \n",
       "3               6      GJ Maxwell                     Holkar Cricket Stadium   \n",
       "4               0       KM Jadhav                      M Chinnaswamy Stadium   \n",
       "\n",
       "          umpire1        umpire2 umpire3  \n",
       "0     AY Dandekar       NJ Llong     NaN  \n",
       "1  A Nand Kishore         S Ravi     NaN  \n",
       "2     Nitin Menon      CK Nandan     NaN  \n",
       "3    AK Chaudhary  C Shamshuddin     NaN  \n",
       "4             NaN            NaN     NaN  "
      ]
     },
     "execution_count": 6,
     "metadata": {},
     "output_type": "execute_result"
    }
   ],
   "source": [
    "\n",
    "#head function used for showing the top 5 rows of a dataset and indexing starts from 0\n",
    "     # and if you want to print how amny rowsyou  want show you can give as attribute of head\n",
    "matches.head()"
   ]
  },
  {
   "cell_type": "code",
   "execution_count": 7,
   "id": "c690831c",
   "metadata": {},
   "outputs": [
    {
     "data": {
      "text/html": [
       "<div>\n",
       "<style scoped>\n",
       "    .dataframe tbody tr th:only-of-type {\n",
       "        vertical-align: middle;\n",
       "    }\n",
       "\n",
       "    .dataframe tbody tr th {\n",
       "        vertical-align: top;\n",
       "    }\n",
       "\n",
       "    .dataframe thead th {\n",
       "        text-align: right;\n",
       "    }\n",
       "</style>\n",
       "<table border=\"1\" class=\"dataframe\">\n",
       "  <thead>\n",
       "    <tr style=\"text-align: right;\">\n",
       "      <th></th>\n",
       "      <th>id</th>\n",
       "      <th>Season</th>\n",
       "      <th>city</th>\n",
       "      <th>date</th>\n",
       "      <th>team1</th>\n",
       "      <th>team2</th>\n",
       "      <th>toss_winner</th>\n",
       "      <th>toss_decision</th>\n",
       "      <th>result</th>\n",
       "      <th>dl_applied</th>\n",
       "      <th>winner</th>\n",
       "      <th>win_by_runs</th>\n",
       "      <th>win_by_wickets</th>\n",
       "      <th>player_of_match</th>\n",
       "      <th>venue</th>\n",
       "      <th>umpire1</th>\n",
       "      <th>umpire2</th>\n",
       "      <th>umpire3</th>\n",
       "    </tr>\n",
       "  </thead>\n",
       "  <tbody>\n",
       "    <tr>\n",
       "      <th>751</th>\n",
       "      <td>11347</td>\n",
       "      <td>IPL-2019</td>\n",
       "      <td>Mumbai</td>\n",
       "      <td>05-05-2019</td>\n",
       "      <td>Kolkata Knight Riders</td>\n",
       "      <td>Mumbai Indians</td>\n",
       "      <td>Mumbai Indians</td>\n",
       "      <td>field</td>\n",
       "      <td>normal</td>\n",
       "      <td>0</td>\n",
       "      <td>Mumbai Indians</td>\n",
       "      <td>0</td>\n",
       "      <td>9</td>\n",
       "      <td>HH Pandya</td>\n",
       "      <td>Wankhede Stadium</td>\n",
       "      <td>Nanda Kishore</td>\n",
       "      <td>O Nandan</td>\n",
       "      <td>S Ravi</td>\n",
       "    </tr>\n",
       "    <tr>\n",
       "      <th>752</th>\n",
       "      <td>11412</td>\n",
       "      <td>IPL-2019</td>\n",
       "      <td>Chennai</td>\n",
       "      <td>07-05-2019</td>\n",
       "      <td>Chennai Super Kings</td>\n",
       "      <td>Mumbai Indians</td>\n",
       "      <td>Chennai Super Kings</td>\n",
       "      <td>bat</td>\n",
       "      <td>normal</td>\n",
       "      <td>0</td>\n",
       "      <td>Mumbai Indians</td>\n",
       "      <td>0</td>\n",
       "      <td>6</td>\n",
       "      <td>AS Yadav</td>\n",
       "      <td>M. A. Chidambaram Stadium</td>\n",
       "      <td>Nigel Llong</td>\n",
       "      <td>Nitin Menon</td>\n",
       "      <td>Ian Gould</td>\n",
       "    </tr>\n",
       "    <tr>\n",
       "      <th>753</th>\n",
       "      <td>11413</td>\n",
       "      <td>IPL-2019</td>\n",
       "      <td>Visakhapatnam</td>\n",
       "      <td>08-05-2019</td>\n",
       "      <td>Sunrisers Hyderabad</td>\n",
       "      <td>Delhi Capitals</td>\n",
       "      <td>Delhi Capitals</td>\n",
       "      <td>field</td>\n",
       "      <td>normal</td>\n",
       "      <td>0</td>\n",
       "      <td>Delhi Capitals</td>\n",
       "      <td>0</td>\n",
       "      <td>2</td>\n",
       "      <td>RR Pant</td>\n",
       "      <td>ACA-VDCA Stadium</td>\n",
       "      <td>NaN</td>\n",
       "      <td>NaN</td>\n",
       "      <td>NaN</td>\n",
       "    </tr>\n",
       "    <tr>\n",
       "      <th>754</th>\n",
       "      <td>11414</td>\n",
       "      <td>IPL-2019</td>\n",
       "      <td>Visakhapatnam</td>\n",
       "      <td>10-05-2019</td>\n",
       "      <td>Delhi Capitals</td>\n",
       "      <td>Chennai Super Kings</td>\n",
       "      <td>Chennai Super Kings</td>\n",
       "      <td>field</td>\n",
       "      <td>normal</td>\n",
       "      <td>0</td>\n",
       "      <td>Chennai Super Kings</td>\n",
       "      <td>0</td>\n",
       "      <td>6</td>\n",
       "      <td>F du Plessis</td>\n",
       "      <td>ACA-VDCA Stadium</td>\n",
       "      <td>Sundaram Ravi</td>\n",
       "      <td>Bruce Oxenford</td>\n",
       "      <td>Chettithody Shamshuddin</td>\n",
       "    </tr>\n",
       "    <tr>\n",
       "      <th>755</th>\n",
       "      <td>11415</td>\n",
       "      <td>IPL-2019</td>\n",
       "      <td>Hyderabad</td>\n",
       "      <td>12-05-2019</td>\n",
       "      <td>Mumbai Indians</td>\n",
       "      <td>Chennai Super Kings</td>\n",
       "      <td>Mumbai Indians</td>\n",
       "      <td>bat</td>\n",
       "      <td>normal</td>\n",
       "      <td>0</td>\n",
       "      <td>Mumbai Indians</td>\n",
       "      <td>1</td>\n",
       "      <td>0</td>\n",
       "      <td>JJ Bumrah</td>\n",
       "      <td>Rajiv Gandhi Intl. Cricket Stadium</td>\n",
       "      <td>Nitin Menon</td>\n",
       "      <td>Ian Gould</td>\n",
       "      <td>Nigel Llong</td>\n",
       "    </tr>\n",
       "  </tbody>\n",
       "</table>\n",
       "</div>"
      ],
      "text/plain": [
       "        id    Season           city        date                  team1  \\\n",
       "751  11347  IPL-2019         Mumbai  05-05-2019  Kolkata Knight Riders   \n",
       "752  11412  IPL-2019        Chennai  07-05-2019    Chennai Super Kings   \n",
       "753  11413  IPL-2019  Visakhapatnam  08-05-2019    Sunrisers Hyderabad   \n",
       "754  11414  IPL-2019  Visakhapatnam  10-05-2019         Delhi Capitals   \n",
       "755  11415  IPL-2019      Hyderabad  12-05-2019         Mumbai Indians   \n",
       "\n",
       "                   team2          toss_winner toss_decision  result  \\\n",
       "751       Mumbai Indians       Mumbai Indians         field  normal   \n",
       "752       Mumbai Indians  Chennai Super Kings           bat  normal   \n",
       "753       Delhi Capitals       Delhi Capitals         field  normal   \n",
       "754  Chennai Super Kings  Chennai Super Kings         field  normal   \n",
       "755  Chennai Super Kings       Mumbai Indians           bat  normal   \n",
       "\n",
       "     dl_applied               winner  win_by_runs  win_by_wickets  \\\n",
       "751           0       Mumbai Indians            0               9   \n",
       "752           0       Mumbai Indians            0               6   \n",
       "753           0       Delhi Capitals            0               2   \n",
       "754           0  Chennai Super Kings            0               6   \n",
       "755           0       Mumbai Indians            1               0   \n",
       "\n",
       "    player_of_match                               venue        umpire1  \\\n",
       "751       HH Pandya                    Wankhede Stadium  Nanda Kishore   \n",
       "752        AS Yadav           M. A. Chidambaram Stadium    Nigel Llong   \n",
       "753         RR Pant                    ACA-VDCA Stadium            NaN   \n",
       "754    F du Plessis                    ACA-VDCA Stadium  Sundaram Ravi   \n",
       "755       JJ Bumrah  Rajiv Gandhi Intl. Cricket Stadium    Nitin Menon   \n",
       "\n",
       "            umpire2                  umpire3  \n",
       "751        O Nandan                   S Ravi  \n",
       "752     Nitin Menon                Ian Gould  \n",
       "753             NaN                      NaN  \n",
       "754  Bruce Oxenford  Chettithody Shamshuddin  \n",
       "755       Ian Gould              Nigel Llong  "
      ]
     },
     "execution_count": 7,
     "metadata": {},
     "output_type": "execute_result"
    }
   ],
   "source": [
    "\n",
    "##tail function used for showing the last 5 rows of a dataset\n",
    "matches.tail()"
   ]
  },
  {
   "cell_type": "code",
   "execution_count": 8,
   "id": "3044cf2b",
   "metadata": {},
   "outputs": [
    {
     "data": {
      "text/plain": [
       "id                 0.000000\n",
       "Season             0.000000\n",
       "city               0.009259\n",
       "date               0.000000\n",
       "team1              0.000000\n",
       "team2              0.000000\n",
       "toss_winner        0.000000\n",
       "toss_decision      0.000000\n",
       "result             0.000000\n",
       "dl_applied         0.000000\n",
       "winner             0.005291\n",
       "win_by_runs        0.000000\n",
       "win_by_wickets     0.000000\n",
       "player_of_match    0.005291\n",
       "venue              0.000000\n",
       "umpire1            0.002646\n",
       "umpire2            0.002646\n",
       "umpire3            0.842593\n",
       "dtype: float64"
      ]
     },
     "execution_count": 8,
     "metadata": {},
     "output_type": "execute_result"
    }
   ],
   "source": [
    "#isnull() means it's boolean expression whether True or False\n",
    "#identifying the number of null values in a dataset and giving sum no.of true in a row\n",
    "matches.isnull().sum()\n",
    "matches.isnull().mean()"
   ]
  },
  {
   "cell_type": "code",
   "execution_count": 9,
   "id": "d4a1d0fb",
   "metadata": {},
   "outputs": [],
   "source": [
    "#city, winner, player_of_match,umpire1,umpire2 and also umpire3 are having the null values"
   ]
  },
  {
   "cell_type": "code",
   "execution_count": 10,
   "id": "c3a0bb7f",
   "metadata": {},
   "outputs": [
    {
     "data": {
      "text/plain": [
       "Index(['id', 'Season', 'city', 'date', 'team1', 'team2', 'toss_winner',\n",
       "       'toss_decision', 'result', 'dl_applied', 'winner', 'win_by_runs',\n",
       "       'win_by_wickets', 'player_of_match', 'venue', 'umpire1', 'umpire2',\n",
       "       'umpire3'],\n",
       "      dtype='object')"
      ]
     },
     "execution_count": 10,
     "metadata": {},
     "output_type": "execute_result"
    }
   ],
   "source": [
    "matches.columns"
   ]
  },
  {
   "cell_type": "code",
   "execution_count": 11,
   "id": "b0f1998c",
   "metadata": {},
   "outputs": [
    {
     "data": {
      "text/plain": [
       "(756, 17)"
      ]
     },
     "execution_count": 11,
     "metadata": {},
     "output_type": "execute_result"
    }
   ],
   "source": [
    "#removing the id column using the drop function\n",
    "matches.drop(\"id\", axis = 1,inplace = True)\n",
    "matches.shape\n"
   ]
  },
  {
   "cell_type": "code",
   "execution_count": 12,
   "id": "7bc01e65",
   "metadata": {},
   "outputs": [
    {
     "data": {
      "text/plain": [
       "IPL-2013    76\n",
       "IPL-2012    74\n",
       "IPL-2011    73\n",
       "IPL-2016    60\n",
       "IPL-2014    60\n",
       "IPL-2010    60\n",
       "IPL-2018    60\n",
       "IPL-2019    60\n",
       "IPL-2015    59\n",
       "IPL-2017    59\n",
       "IPL-2008    58\n",
       "IPL-2009    57\n",
       "Name: Season, dtype: int64"
      ]
     },
     "execution_count": 12,
     "metadata": {},
     "output_type": "execute_result"
    }
   ],
   "source": [
    "#Season\n",
    "matches.Season.unique()\n",
    "matches.Season.nunique()\n",
    "matches.Season.value_counts()"
   ]
  },
  {
   "cell_type": "code",
   "execution_count": 13,
   "id": "42026105",
   "metadata": {},
   "outputs": [
    {
     "name": "stderr",
     "output_type": "stream",
     "text": [
      "C:\\Users\\HP\\anaconda3\\lib\\site-packages\\seaborn\\_decorators.py:36: FutureWarning: Pass the following variable as a keyword arg: x. From version 0.12, the only valid positional argument will be `data`, and passing other arguments without an explicit keyword will result in an error or misinterpretation.\n",
      "  warnings.warn(\n"
     ]
    },
    {
     "data": {
      "text/plain": [
       "(array([ 0,  1,  2,  3,  4,  5,  6,  7,  8,  9, 10, 11]),\n",
       " [Text(0, 0, 'IPL-2017'),\n",
       "  Text(1, 0, 'IPL-2008'),\n",
       "  Text(2, 0, 'IPL-2009'),\n",
       "  Text(3, 0, 'IPL-2010'),\n",
       "  Text(4, 0, 'IPL-2011'),\n",
       "  Text(5, 0, 'IPL-2012'),\n",
       "  Text(6, 0, 'IPL-2013'),\n",
       "  Text(7, 0, 'IPL-2014'),\n",
       "  Text(8, 0, 'IPL-2015'),\n",
       "  Text(9, 0, 'IPL-2016'),\n",
       "  Text(10, 0, 'IPL-2018'),\n",
       "  Text(11, 0, 'IPL-2019')])"
      ]
     },
     "execution_count": 13,
     "metadata": {},
     "output_type": "execute_result"
    },
    {
     "data": {
      "image/png": "[encoded data removed]",
      "text/plain": [
       "<Figure size 432x288 with 1 Axes>"
      ]
     },
     "metadata": {
      "needs_background": "light"
     },
     "output_type": "display_data"
    }
   ],
   "source": [
    "sns.countplot(matches.Season)\n",
    "plt.xticks(rotation=90)"
   ]
  },
  {
   "cell_type": "code",
   "execution_count": 14,
   "id": "eb339f69",
   "metadata": {},
   "outputs": [
    {
     "data": {
      "text/plain": [
       "7"
      ]
     },
     "execution_count": 14,
     "metadata": {},
     "output_type": "execute_result"
    }
   ],
   "source": [
    "#city\n",
    "matches.city.isnull().sum() "
   ]
  },
  {
   "cell_type": "code",
   "execution_count": 15,
   "id": "615a1f7d",
   "metadata": {},
   "outputs": [],
   "source": [
    "#Have 7 null values"
   ]
  },
  {
   "cell_type": "code",
   "execution_count": 16,
   "id": "a7541144",
   "metadata": {},
   "outputs": [
    {
     "data": {
      "text/plain": [
       "array(['Hyderabad', 'Pune', 'Rajkot', 'Indore', 'Bangalore', 'Mumbai',\n",
       "       'Kolkata', 'Delhi', 'Chandigarh', 'Kanpur', 'Jaipur', 'Chennai',\n",
       "       'Cape Town', 'Port Elizabeth', 'Durban', 'Centurion',\n",
       "       'East London', 'Johannesburg', 'Kimberley', 'Bloemfontein',\n",
       "       'Ahmedabad', 'Cuttack', 'Nagpur', 'Dharamsala', 'Kochi',\n",
       "       'Visakhapatnam', 'Raipur', 'Ranchi', 'Abu Dhabi', 'Sharjah', nan,\n",
       "       'Mohali', 'Bengaluru'], dtype=object)"
      ]
     },
     "execution_count": 16,
     "metadata": {},
     "output_type": "execute_result"
    }
   ],
   "source": [
    "matches.city.unique()\n"
   ]
  },
  {
   "cell_type": "code",
   "execution_count": 17,
   "id": "f3e88d92",
   "metadata": {},
   "outputs": [
    {
     "data": {
      "text/plain": [
       "32"
      ]
     },
     "execution_count": 17,
     "metadata": {},
     "output_type": "execute_result"
    }
   ],
   "source": [
    "matches.city.nunique()"
   ]
  },
  {
   "cell_type": "code",
   "execution_count": 18,
   "id": "3ba232e5",
   "metadata": {},
   "outputs": [
    {
     "data": {
      "text/plain": [
       "Mumbai            101\n",
       "Kolkata            77\n",
       "Delhi              74\n",
       "Bangalore          66\n",
       "Hyderabad          64\n",
       "Chennai            57\n",
       "Jaipur             47\n",
       "Chandigarh         46\n",
       "Pune               38\n",
       "Durban             15\n",
       "Bengaluru          14\n",
       "Visakhapatnam      13\n",
       "Ahmedabad          12\n",
       "Centurion          12\n",
       "Rajkot             10\n",
       "Mohali             10\n",
       "Dharamsala          9\n",
       "Indore              9\n",
       "Johannesburg        8\n",
       "Abu Dhabi           7\n",
       "Cuttack             7\n",
       "Port Elizabeth      7\n",
       "Cape Town           7\n",
       "Ranchi              7\n",
       "Sharjah             6\n",
       "Raipur              6\n",
       "Kochi               5\n",
       "Kanpur              4\n",
       "Nagpur              3\n",
       "Kimberley           3\n",
       "East London         3\n",
       "Bloemfontein        2\n",
       "Name: city, dtype: int64"
      ]
     },
     "execution_count": 18,
     "metadata": {},
     "output_type": "execute_result"
    }
   ],
   "source": [
    "matches.city.value_counts()"
   ]
  },
  {
   "cell_type": "code",
   "execution_count": 19,
   "id": "9742fcf2",
   "metadata": {},
   "outputs": [
    {
     "name": "stderr",
     "output_type": "stream",
     "text": [
      "C:\\Users\\HP\\anaconda3\\lib\\site-packages\\seaborn\\_decorators.py:36: FutureWarning: Pass the following variable as a keyword arg: x. From version 0.12, the only valid positional argument will be `data`, and passing other arguments without an explicit keyword will result in an error or misinterpretation.\n",
      "  warnings.warn(\n"
     ]
    },
    {
     "data": {
      "text/plain": [
       "(array([ 0,  1,  2,  3,  4,  5,  6,  7,  8,  9, 10, 11, 12, 13, 14, 15, 16,\n",
       "        17, 18, 19, 20, 21, 22, 23, 24, 25, 26, 27, 28, 29, 30, 31]),\n",
       " [Text(0, 0, 'Hyderabad'),\n",
       "  Text(1, 0, 'Pune'),\n",
       "  Text(2, 0, 'Rajkot'),\n",
       "  Text(3, 0, 'Indore'),\n",
       "  Text(4, 0, 'Bangalore'),\n",
       "  Text(5, 0, 'Mumbai'),\n",
       "  Text(6, 0, 'Kolkata'),\n",
       "  Text(7, 0, 'Delhi'),\n",
       "  Text(8, 0, 'Chandigarh'),\n",
       "  Text(9, 0, 'Kanpur'),\n",
       "  Text(10, 0, 'Jaipur'),\n",
       "  Text(11, 0, 'Chennai'),\n",
       "  Text(12, 0, 'Cape Town'),\n",
       "  Text(13, 0, 'Port Elizabeth'),\n",
       "  Text(14, 0, 'Durban'),\n",
       "  Text(15, 0, 'Centurion'),\n",
       "  Text(16, 0, 'East London'),\n",
       "  Text(17, 0, 'Johannesburg'),\n",
       "  Text(18, 0, 'Kimberley'),\n",
       "  Text(19, 0, 'Bloemfontein'),\n",
       "  Text(20, 0, 'Ahmedabad'),\n",
       "  Text(21, 0, 'Cuttack'),\n",
       "  Text(22, 0, 'Nagpur'),\n",
       "  Text(23, 0, 'Dharamsala'),\n",
       "  Text(24, 0, 'Kochi'),\n",
       "  Text(25, 0, 'Visakhapatnam'),\n",
       "  Text(26, 0, 'Raipur'),\n",
       "  Text(27, 0, 'Ranchi'),\n",
       "  Text(28, 0, 'Abu Dhabi'),\n",
       "  Text(29, 0, 'Sharjah'),\n",
       "  Text(30, 0, 'Mohali'),\n",
       "  Text(31, 0, 'Bengaluru')])"
      ]
     },
     "execution_count": 19,
     "metadata": {},
     "output_type": "execute_result"
    },
    {
     "data": {
      "image/png": "[encoded data removed]",
      "text/plain": [
       "<Figure size 432x288 with 1 Axes>"
      ]
     },
     "metadata": {
      "needs_background": "light"
     },
     "output_type": "display_data"
    }
   ],
   "source": [
    "sns.countplot(matches.city)\n",
    "plt.xticks(rotation=90)"
   ]
  },
  {
   "cell_type": "code",
   "execution_count": 20,
   "id": "3a724abf",
   "metadata": {},
   "outputs": [
    {
     "data": {
      "text/plain": [
       "0"
      ]
     },
     "execution_count": 20,
     "metadata": {},
     "output_type": "execute_result"
    }
   ],
   "source": [
    "matches.city.fillna(\"other stadium\",inplace = True)\n",
    "matches.city.isnull().sum()"
   ]
  },
  {
   "cell_type": "code",
   "execution_count": 21,
   "id": "b284c17a",
   "metadata": {},
   "outputs": [
    {
     "data": {
      "text/plain": [
       "0"
      ]
     },
     "execution_count": 21,
     "metadata": {},
     "output_type": "execute_result"
    }
   ],
   "source": [
    "#date\n",
    "matches.date.isnull().sum()"
   ]
  },
  {
   "cell_type": "code",
   "execution_count": 22,
   "id": "2b4ee06d",
   "metadata": {},
   "outputs": [
    {
     "data": {
      "text/plain": [
       "546"
      ]
     },
     "execution_count": 22,
     "metadata": {},
     "output_type": "execute_result"
    }
   ],
   "source": [
    "matches.date.unique()\n",
    "matches.date.nunique()"
   ]
  },
  {
   "cell_type": "code",
   "execution_count": 23,
   "id": "8f5b2b72",
   "metadata": {},
   "outputs": [
    {
     "data": {
      "text/plain": [
       "05-05-2018    2\n",
       "16-04-2017    2\n",
       "07-05-2015    2\n",
       "14-05-2013    2\n",
       "09-05-2013    2\n",
       "             ..\n",
       "14-05-2015    1\n",
       "13-05-2008    1\n",
       "04-05-2014    1\n",
       "09-05-2017    1\n",
       "26-04-2015    1\n",
       "Name: date, Length: 546, dtype: int64"
      ]
     },
     "execution_count": 23,
     "metadata": {},
     "output_type": "execute_result"
    }
   ],
   "source": [
    "\n",
    "matches.date.value_counts()"
   ]
  },
  {
   "cell_type": "code",
   "execution_count": 24,
   "id": "f3372fc8",
   "metadata": {},
   "outputs": [
    {
     "name": "stderr",
     "output_type": "stream",
     "text": [
      "C:\\Users\\HP\\anaconda3\\lib\\site-packages\\seaborn\\_decorators.py:36: FutureWarning: Pass the following variable as a keyword arg: x. From version 0.12, the only valid positional argument will be `data`, and passing other arguments without an explicit keyword will result in an error or misinterpretation.\n",
      "  warnings.warn(\n"
     ]
    },
    {
     "data": {
      "text/plain": [
       "(array([  0,   1,   2,   3,   4,   5,   6,   7,   8,   9,  10,  11,  12,\n",
       "         13,  14,  15,  16,  17,  18,  19,  20,  21,  22,  23,  24,  25,\n",
       "         26,  27,  28,  29,  30,  31,  32,  33,  34,  35,  36,  37,  38,\n",
       "         39,  40,  41,  42,  43,  44,  45,  46,  47,  48,  49,  50,  51,\n",
       "         52,  53,  54,  55,  56,  57,  58,  59,  60,  61,  62,  63,  64,\n",
       "         65,  66,  67,  68,  69,  70,  71,  72,  73,  74,  75,  76,  77,\n",
       "         78,  79,  80,  81,  82,  83,  84,  85,  86,  87,  88,  89,  90,\n",
       "         91,  92,  93,  94,  95,  96,  97,  98,  99, 100, 101, 102, 103,\n",
       "        104, 105, 106, 107, 108, 109, 110, 111, 112, 113, 114, 115, 116,\n",
       "        117, 118, 119, 120, 121, 122, 123, 124, 125, 126, 127, 128, 129,\n",
       "        130, 131, 132, 133, 134, 135, 136, 137, 138, 139, 140, 141, 142,\n",
       "        143, 144, 145, 146, 147, 148, 149, 150, 151, 152, 153, 154, 155,\n",
       "        156, 157, 158, 159, 160, 161, 162, 163, 164, 165, 166, 167, 168,\n",
       "        169, 170, 171, 172, 173, 174, 175, 176, 177, 178, 179, 180, 181,\n",
       "        182, 183, 184, 185, 186, 187, 188, 189, 190, 191, 192, 193, 194,\n",
       "        195, 196, 197, 198, 199, 200, 201, 202, 203, 204, 205, 206, 207,\n",
       "        208, 209, 210, 211, 212, 213, 214, 215, 216, 217, 218, 219, 220,\n",
       "        221, 222, 223, 224, 225, 226, 227, 228, 229, 230, 231, 232, 233,\n",
       "        234, 235, 236, 237, 238, 239, 240, 241, 242, 243, 244, 245, 246,\n",
       "        247, 248, 249, 250, 251, 252, 253, 254, 255, 256, 257, 258, 259,\n",
       "        260, 261, 262, 263, 264, 265, 266, 267, 268, 269, 270, 271, 272,\n",
       "        273, 274, 275, 276, 277, 278, 279, 280, 281, 282, 283, 284, 285,\n",
       "        286, 287, 288, 289, 290, 291, 292, 293, 294, 295, 296, 297, 298,\n",
       "        299, 300, 301, 302, 303, 304, 305, 306, 307, 308, 309, 310, 311,\n",
       "        312, 313, 314, 315, 316, 317, 318, 319, 320, 321, 322, 323, 324,\n",
       "        325, 326, 327, 328, 329, 330, 331, 332, 333, 334, 335, 336, 337,\n",
       "        338, 339, 340, 341, 342, 343, 344, 345, 346, 347, 348, 349, 350,\n",
       "        351, 352, 353, 354, 355, 356, 357, 358, 359, 360, 361, 362, 363,\n",
       "        364, 365, 366, 367, 368, 369, 370, 371, 372, 373, 374, 375, 376,\n",
       "        377, 378, 379, 380, 381, 382, 383, 384, 385, 386, 387, 388, 389,\n",
       "        390, 391, 392, 393, 394, 395, 396, 397, 398, 399, 400, 401, 402,\n",
       "        403, 404, 405, 406, 407, 408, 409, 410, 411, 412, 413, 414, 415,\n",
       "        416, 417, 418, 419, 420, 421, 422, 423, 424, 425, 426, 427, 428,\n",
       "        429, 430, 431, 432, 433, 434, 435, 436, 437, 438, 439, 440, 441,\n",
       "        442, 443, 444, 445, 446, 447, 448, 449, 450, 451, 452, 453, 454,\n",
       "        455, 456, 457, 458, 459, 460, 461, 462, 463, 464, 465, 466, 467,\n",
       "        468, 469, 470, 471, 472, 473, 474, 475, 476, 477, 478, 479, 480,\n",
       "        481, 482, 483, 484, 485, 486, 487, 488, 489, 490, 491, 492, 493,\n",
       "        494, 495, 496, 497, 498, 499, 500, 501, 502, 503, 504, 505, 506,\n",
       "        507, 508, 509, 510, 511, 512, 513, 514, 515, 516, 517, 518, 519,\n",
       "        520, 521, 522, 523, 524, 525, 526, 527, 528, 529, 530, 531, 532,\n",
       "        533, 534, 535, 536, 537, 538, 539, 540, 541, 542, 543, 544, 545]),\n",
       " [Text(0, 0, '05-04-2017'),\n",
       "  Text(1, 0, '06-04-2017'),\n",
       "  Text(2, 0, '07-04-2017'),\n",
       "  Text(3, 0, '08-04-2017'),\n",
       "  Text(4, 0, '09-04-2017'),\n",
       "  Text(5, 0, '10-04-2017'),\n",
       "  Text(6, 0, '11-04-2017'),\n",
       "  Text(7, 0, '12-04-2017'),\n",
       "  Text(8, 0, '13-04-2017'),\n",
       "  Text(9, 0, '14-04-2017'),\n",
       "  Text(10, 0, '15-04-2017'),\n",
       "  Text(11, 0, '16-04-2017'),\n",
       "  Text(12, 0, '17-04-2017'),\n",
       "  Text(13, 0, '18-04-2017'),\n",
       "  Text(14, 0, '19-04-2017'),\n",
       "  Text(15, 0, '20-04-2017'),\n",
       "  Text(16, 0, '21-04-2017'),\n",
       "  Text(17, 0, '22-04-2017'),\n",
       "  Text(18, 0, '23-04-2017'),\n",
       "  Text(19, 0, '24-04-2017'),\n",
       "  Text(20, 0, '26-04-2017'),\n",
       "  Text(21, 0, '27-04-2017'),\n",
       "  Text(22, 0, '28-04-2017'),\n",
       "  Text(23, 0, '29-04-2017'),\n",
       "  Text(24, 0, '30-04-2017'),\n",
       "  Text(25, 0, '01-05-2017'),\n",
       "  Text(26, 0, '02-05-2017'),\n",
       "  Text(27, 0, '03-05-2017'),\n",
       "  Text(28, 0, '04-05-2017'),\n",
       "  Text(29, 0, '05-05-2017'),\n",
       "  Text(30, 0, '06-05-2017'),\n",
       "  Text(31, 0, '07-05-2017'),\n",
       "  Text(32, 0, '08-05-2017'),\n",
       "  Text(33, 0, '09-05-2017'),\n",
       "  Text(34, 0, '10-05-2017'),\n",
       "  Text(35, 0, '11-05-2017'),\n",
       "  Text(36, 0, '12-05-2017'),\n",
       "  Text(37, 0, '13-05-2017'),\n",
       "  Text(38, 0, '14-05-2017'),\n",
       "  Text(39, 0, '16-05-2017'),\n",
       "  Text(40, 0, '17-05-2017'),\n",
       "  Text(41, 0, '19-05-2017'),\n",
       "  Text(42, 0, '21-05-2017'),\n",
       "  Text(43, 0, '18-04-2008'),\n",
       "  Text(44, 0, '19-04-2008'),\n",
       "  Text(45, 0, '20-04-2008'),\n",
       "  Text(46, 0, '21-04-2008'),\n",
       "  Text(47, 0, '22-04-2008'),\n",
       "  Text(48, 0, '23-04-2008'),\n",
       "  Text(49, 0, '24-04-2008'),\n",
       "  Text(50, 0, '25-04-2008'),\n",
       "  Text(51, 0, '26-04-2008'),\n",
       "  Text(52, 0, '27-04-2008'),\n",
       "  Text(53, 0, '28-04-2008'),\n",
       "  Text(54, 0, '29-04-2008'),\n",
       "  Text(55, 0, '30-04-2008'),\n",
       "  Text(56, 0, '01-05-2008'),\n",
       "  Text(57, 0, '02-05-2008'),\n",
       "  Text(58, 0, '25-05-2008'),\n",
       "  Text(59, 0, '03-05-2008'),\n",
       "  Text(60, 0, '04-05-2008'),\n",
       "  Text(61, 0, '05-05-2008'),\n",
       "  Text(62, 0, '06-05-2008'),\n",
       "  Text(63, 0, '07-05-2008'),\n",
       "  Text(64, 0, '08-05-2008'),\n",
       "  Text(65, 0, '09-05-2008'),\n",
       "  Text(66, 0, '28-05-2008'),\n",
       "  Text(67, 0, '10-05-2008'),\n",
       "  Text(68, 0, '11-05-2008'),\n",
       "  Text(69, 0, '12-05-2008'),\n",
       "  Text(70, 0, '13-05-2008'),\n",
       "  Text(71, 0, '14-05-2008'),\n",
       "  Text(72, 0, '15-05-2008'),\n",
       "  Text(73, 0, '16-05-2008'),\n",
       "  Text(74, 0, '17-05-2008'),\n",
       "  Text(75, 0, '18-05-2008'),\n",
       "  Text(76, 0, '19-05-2008'),\n",
       "  Text(77, 0, '20-05-2008'),\n",
       "  Text(78, 0, '21-05-2008'),\n",
       "  Text(79, 0, '23-05-2008'),\n",
       "  Text(80, 0, '24-05-2008'),\n",
       "  Text(81, 0, '26-05-2008'),\n",
       "  Text(82, 0, '27-05-2008'),\n",
       "  Text(83, 0, '30-05-2008'),\n",
       "  Text(84, 0, '31-05-2008'),\n",
       "  Text(85, 0, '01-06-2008'),\n",
       "  Text(86, 0, '18-04-2009'),\n",
       "  Text(87, 0, '19-04-2009'),\n",
       "  Text(88, 0, '20-04-2009'),\n",
       "  Text(89, 0, '21-04-2009'),\n",
       "  Text(90, 0, '22-04-2009'),\n",
       "  Text(91, 0, '23-04-2009'),\n",
       "  Text(92, 0, '24-04-2009'),\n",
       "  Text(93, 0, '25-04-2009'),\n",
       "  Text(94, 0, '26-04-2009'),\n",
       "  Text(95, 0, '27-04-2009'),\n",
       "  Text(96, 0, '28-04-2009'),\n",
       "  Text(97, 0, '29-04-2009'),\n",
       "  Text(98, 0, '30-04-2009'),\n",
       "  Text(99, 0, '01-05-2009'),\n",
       "  Text(100, 0, '02-05-2009'),\n",
       "  Text(101, 0, '03-05-2009'),\n",
       "  Text(102, 0, '04-05-2009'),\n",
       "  Text(103, 0, '05-05-2009'),\n",
       "  Text(104, 0, '06-05-2009'),\n",
       "  Text(105, 0, '07-05-2009'),\n",
       "  Text(106, 0, '08-05-2009'),\n",
       "  Text(107, 0, '09-05-2009'),\n",
       "  Text(108, 0, '10-05-2009'),\n",
       "  Text(109, 0, '11-05-2009'),\n",
       "  Text(110, 0, '12-05-2009'),\n",
       "  Text(111, 0, '13-05-2009'),\n",
       "  Text(112, 0, '14-05-2009'),\n",
       "  Text(113, 0, '15-05-2009'),\n",
       "  Text(114, 0, '16-05-2009'),\n",
       "  Text(115, 0, '17-05-2009'),\n",
       "  Text(116, 0, '18-05-2009'),\n",
       "  Text(117, 0, '19-05-2009'),\n",
       "  Text(118, 0, '20-05-2009'),\n",
       "  Text(119, 0, '21-05-2009'),\n",
       "  Text(120, 0, '22-05-2009'),\n",
       "  Text(121, 0, '23-05-2009'),\n",
       "  Text(122, 0, '24-05-2009'),\n",
       "  Text(123, 0, '12-03-2010'),\n",
       "  Text(124, 0, '13-03-2010'),\n",
       "  Text(125, 0, '14-03-2010'),\n",
       "  Text(126, 0, '15-03-2010'),\n",
       "  Text(127, 0, '16-03-2010'),\n",
       "  Text(128, 0, '17-03-2010'),\n",
       "  Text(129, 0, '18-03-2010'),\n",
       "  Text(130, 0, '19-03-2010'),\n",
       "  Text(131, 0, '20-03-2010'),\n",
       "  Text(132, 0, '21-03-2010'),\n",
       "  Text(133, 0, '22-03-2010'),\n",
       "  Text(134, 0, '23-03-2010'),\n",
       "  Text(135, 0, '24-03-2010'),\n",
       "  Text(136, 0, '25-03-2010'),\n",
       "  Text(137, 0, '26-03-2010'),\n",
       "  Text(138, 0, '27-03-2010'),\n",
       "  Text(139, 0, '28-03-2010'),\n",
       "  Text(140, 0, '29-03-2010'),\n",
       "  Text(141, 0, '30-03-2010'),\n",
       "  Text(142, 0, '31-03-2010'),\n",
       "  Text(143, 0, '01-04-2010'),\n",
       "  Text(144, 0, '02-04-2010'),\n",
       "  Text(145, 0, '03-04-2010'),\n",
       "  Text(146, 0, '04-04-2010'),\n",
       "  Text(147, 0, '05-04-2010'),\n",
       "  Text(148, 0, '06-04-2010'),\n",
       "  Text(149, 0, '07-04-2010'),\n",
       "  Text(150, 0, '08-04-2010'),\n",
       "  Text(151, 0, '09-04-2010'),\n",
       "  Text(152, 0, '10-04-2010'),\n",
       "  Text(153, 0, '11-04-2010'),\n",
       "  Text(154, 0, '12-04-2010'),\n",
       "  Text(155, 0, '13-04-2010'),\n",
       "  Text(156, 0, '14-04-2010'),\n",
       "  Text(157, 0, '15-04-2010'),\n",
       "  Text(158, 0, '16-04-2010'),\n",
       "  Text(159, 0, '17-04-2010'),\n",
       "  Text(160, 0, '18-04-2010'),\n",
       "  Text(161, 0, '19-04-2010'),\n",
       "  Text(162, 0, '21-04-2010'),\n",
       "  Text(163, 0, '22-04-2010'),\n",
       "  Text(164, 0, '24-04-2010'),\n",
       "  Text(165, 0, '25-04-2010'),\n",
       "  Text(166, 0, '08-04-2011'),\n",
       "  Text(167, 0, '09-04-2011'),\n",
       "  Text(168, 0, '10-04-2011'),\n",
       "  Text(169, 0, '11-04-2011'),\n",
       "  Text(170, 0, '12-04-2011'),\n",
       "  Text(171, 0, '13-04-2011'),\n",
       "  Text(172, 0, '14-04-2011'),\n",
       "  Text(173, 0, '15-04-2011'),\n",
       "  Text(174, 0, '16-04-2011'),\n",
       "  Text(175, 0, '17-04-2011'),\n",
       "  Text(176, 0, '18-04-2011'),\n",
       "  Text(177, 0, '19-04-2011'),\n",
       "  Text(178, 0, '20-04-2011'),\n",
       "  Text(179, 0, '21-04-2011'),\n",
       "  Text(180, 0, '22-04-2011'),\n",
       "  Text(181, 0, '23-04-2011'),\n",
       "  Text(182, 0, '24-04-2011'),\n",
       "  Text(183, 0, '25-04-2011'),\n",
       "  Text(184, 0, '26-04-2011'),\n",
       "  Text(185, 0, '27-04-2011'),\n",
       "  Text(186, 0, '28-04-2011'),\n",
       "  Text(187, 0, '29-04-2011'),\n",
       "  Text(188, 0, '30-04-2011'),\n",
       "  Text(189, 0, '01-05-2011'),\n",
       "  Text(190, 0, '02-05-2011'),\n",
       "  Text(191, 0, '03-05-2011'),\n",
       "  Text(192, 0, '04-05-2011'),\n",
       "  Text(193, 0, '05-05-2011'),\n",
       "  Text(194, 0, '06-05-2011'),\n",
       "  Text(195, 0, '07-05-2011'),\n",
       "  Text(196, 0, '08-05-2011'),\n",
       "  Text(197, 0, '09-05-2011'),\n",
       "  Text(198, 0, '10-05-2011'),\n",
       "  Text(199, 0, '11-05-2011'),\n",
       "  Text(200, 0, '12-05-2011'),\n",
       "  Text(201, 0, '13-05-2011'),\n",
       "  Text(202, 0, '14-05-2011'),\n",
       "  Text(203, 0, '15-05-2011'),\n",
       "  Text(204, 0, '16-05-2011'),\n",
       "  Text(205, 0, '17-05-2011'),\n",
       "  Text(206, 0, '18-05-2011'),\n",
       "  Text(207, 0, '19-05-2011'),\n",
       "  Text(208, 0, '20-05-2011'),\n",
       "  Text(209, 0, '21-05-2011'),\n",
       "  Text(210, 0, '22-05-2011'),\n",
       "  Text(211, 0, '24-05-2011'),\n",
       "  Text(212, 0, '25-05-2011'),\n",
       "  Text(213, 0, '27-05-2011'),\n",
       "  Text(214, 0, '28-05-2011'),\n",
       "  Text(215, 0, '04-04-2012'),\n",
       "  Text(216, 0, '05-04-2012'),\n",
       "  Text(217, 0, '06-04-2012'),\n",
       "  Text(218, 0, '07-04-2012'),\n",
       "  Text(219, 0, '08-04-2012'),\n",
       "  Text(220, 0, '09-04-2012'),\n",
       "  Text(221, 0, '10-04-2012'),\n",
       "  Text(222, 0, '11-04-2012'),\n",
       "  Text(223, 0, '12-04-2012'),\n",
       "  Text(224, 0, '13-04-2012'),\n",
       "  Text(225, 0, '19-04-2012'),\n",
       "  Text(226, 0, '14-04-2012'),\n",
       "  Text(227, 0, '15-04-2012'),\n",
       "  Text(228, 0, '16-04-2012'),\n",
       "  Text(229, 0, '17-04-2012'),\n",
       "  Text(230, 0, '18-04-2012'),\n",
       "  Text(231, 0, '10-05-2012'),\n",
       "  Text(232, 0, '20-04-2012'),\n",
       "  Text(233, 0, '21-04-2012'),\n",
       "  Text(234, 0, '22-04-2012'),\n",
       "  Text(235, 0, '23-04-2012'),\n",
       "  Text(236, 0, '24-04-2012'),\n",
       "  Text(237, 0, '25-04-2012'),\n",
       "  Text(238, 0, '26-04-2012'),\n",
       "  Text(239, 0, '27-04-2012'),\n",
       "  Text(240, 0, '28-04-2012'),\n",
       "  Text(241, 0, '29-04-2012'),\n",
       "  Text(242, 0, '30-04-2012'),\n",
       "  Text(243, 0, '01-05-2012'),\n",
       "  Text(244, 0, '02-05-2012'),\n",
       "  Text(245, 0, '03-05-2012'),\n",
       "  Text(246, 0, '04-05-2012'),\n",
       "  Text(247, 0, '05-05-2012'),\n",
       "  Text(248, 0, '06-05-2012'),\n",
       "  Text(249, 0, '07-05-2012'),\n",
       "  Text(250, 0, '08-05-2012'),\n",
       "  Text(251, 0, '09-05-2012'),\n",
       "  Text(252, 0, '11-05-2012'),\n",
       "  Text(253, 0, '12-05-2012'),\n",
       "  Text(254, 0, '13-05-2012'),\n",
       "  Text(255, 0, '14-05-2012'),\n",
       "  Text(256, 0, '15-05-2012'),\n",
       "  Text(257, 0, '16-05-2012'),\n",
       "  Text(258, 0, '17-05-2012'),\n",
       "  Text(259, 0, '18-05-2012'),\n",
       "  Text(260, 0, '19-05-2012'),\n",
       "  Text(261, 0, '20-05-2012'),\n",
       "  Text(262, 0, '22-05-2012'),\n",
       "  Text(263, 0, '23-05-2012'),\n",
       "  Text(264, 0, '25-05-2012'),\n",
       "  Text(265, 0, '27-05-2012'),\n",
       "  Text(266, 0, '03-04-2013'),\n",
       "  Text(267, 0, '04-04-2013'),\n",
       "  Text(268, 0, '05-04-2013'),\n",
       "  Text(269, 0, '06-04-2013'),\n",
       "  Text(270, 0, '07-04-2013'),\n",
       "  Text(271, 0, '08-04-2013'),\n",
       "  Text(272, 0, '09-04-2013'),\n",
       "  Text(273, 0, '10-04-2013'),\n",
       "  Text(274, 0, '11-04-2013'),\n",
       "  Text(275, 0, '12-04-2013'),\n",
       "  Text(276, 0, '13-04-2013'),\n",
       "  Text(277, 0, '14-04-2013'),\n",
       "  Text(278, 0, '15-04-2013'),\n",
       "  Text(279, 0, '16-04-2013'),\n",
       "  Text(280, 0, '17-04-2013'),\n",
       "  Text(281, 0, '18-04-2013'),\n",
       "  Text(282, 0, '19-04-2013'),\n",
       "  Text(283, 0, '20-04-2013'),\n",
       "  Text(284, 0, '21-04-2013'),\n",
       "  Text(285, 0, '22-04-2013'),\n",
       "  Text(286, 0, '23-04-2013'),\n",
       "  Text(287, 0, '16-05-2013'),\n",
       "  Text(288, 0, '24-04-2013'),\n",
       "  Text(289, 0, '25-04-2013'),\n",
       "  Text(290, 0, '26-04-2013'),\n",
       "  Text(291, 0, '27-04-2013'),\n",
       "  Text(292, 0, '28-04-2013'),\n",
       "  Text(293, 0, '29-04-2013'),\n",
       "  Text(294, 0, '30-04-2013'),\n",
       "  Text(295, 0, '01-05-2013'),\n",
       "  Text(296, 0, '02-05-2013'),\n",
       "  Text(297, 0, '03-05-2013'),\n",
       "  Text(298, 0, '04-05-2013'),\n",
       "  Text(299, 0, '14-05-2013'),\n",
       "  Text(300, 0, '05-05-2013'),\n",
       "  Text(301, 0, '07-05-2013'),\n",
       "  Text(302, 0, '08-05-2013'),\n",
       "  Text(303, 0, '09-05-2013'),\n",
       "  Text(304, 0, '10-05-2013'),\n",
       "  Text(305, 0, '11-05-2013'),\n",
       "  Text(306, 0, '12-05-2013'),\n",
       "  Text(307, 0, '13-05-2013'),\n",
       "  Text(308, 0, '15-05-2013'),\n",
       "  Text(309, 0, '06-05-2013'),\n",
       "  Text(310, 0, '17-05-2013'),\n",
       "  Text(311, 0, '18-05-2013'),\n",
       "  Text(312, 0, '19-05-2013'),\n",
       "  Text(313, 0, '21-05-2013'),\n",
       "  Text(314, 0, '22-05-2013'),\n",
       "  Text(315, 0, '24-05-2013'),\n",
       "  Text(316, 0, '26-05-2013'),\n",
       "  Text(317, 0, '16-04-2014'),\n",
       "  Text(318, 0, '17-04-2014'),\n",
       "  Text(319, 0, '18-04-2014'),\n",
       "  Text(320, 0, '19-04-2014'),\n",
       "  Text(321, 0, '20-04-2014'),\n",
       "  Text(322, 0, '21-04-2014'),\n",
       "  Text(323, 0, '22-04-2014'),\n",
       "  Text(324, 0, '23-04-2014'),\n",
       "  Text(325, 0, '24-04-2014'),\n",
       "  Text(326, 0, '25-04-2014'),\n",
       "  Text(327, 0, '26-04-2014'),\n",
       "  Text(328, 0, '27-04-2014'),\n",
       "  Text(329, 0, '28-04-2014'),\n",
       "  Text(330, 0, '29-04-2014'),\n",
       "  Text(331, 0, '30-04-2014'),\n",
       "  Text(332, 0, '02-05-2014'),\n",
       "  Text(333, 0, '03-05-2014'),\n",
       "  Text(334, 0, '04-05-2014'),\n",
       "  Text(335, 0, '05-05-2014'),\n",
       "  Text(336, 0, '06-05-2014'),\n",
       "  Text(337, 0, '07-05-2014'),\n",
       "  Text(338, 0, '08-05-2014'),\n",
       "  Text(339, 0, '09-05-2014'),\n",
       "  Text(340, 0, '10-05-2014'),\n",
       "  Text(341, 0, '11-05-2014'),\n",
       "  Text(342, 0, '12-05-2014'),\n",
       "  Text(343, 0, '13-05-2014'),\n",
       "  Text(344, 0, '14-05-2014'),\n",
       "  Text(345, 0, '15-05-2014'),\n",
       "  Text(346, 0, '18-05-2014'),\n",
       "  Text(347, 0, '19-05-2014'),\n",
       "  Text(348, 0, '20-05-2014'),\n",
       "  Text(349, 0, '21-05-2014'),\n",
       "  Text(350, 0, '22-05-2014'),\n",
       "  Text(351, 0, '23-05-2014'),\n",
       "  Text(352, 0, '24-05-2014'),\n",
       "  Text(353, 0, '25-05-2014'),\n",
       "  Text(354, 0, '27-05-2014'),\n",
       "  Text(355, 0, '28-05-2014'),\n",
       "  Text(356, 0, '30-05-2014'),\n",
       "  Text(357, 0, '01-06-2014'),\n",
       "  Text(358, 0, '08-04-2015'),\n",
       "  Text(359, 0, '09-04-2015'),\n",
       "  Text(360, 0, '10-04-2015'),\n",
       "  Text(361, 0, '11-04-2015'),\n",
       "  Text(362, 0, '12-04-2015'),\n",
       "  Text(363, 0, '13-04-2015'),\n",
       "  Text(364, 0, '14-04-2015'),\n",
       "  Text(365, 0, '30-04-2015'),\n",
       "  Text(366, 0, '15-04-2015'),\n",
       "  Text(367, 0, '16-04-2015'),\n",
       "  Text(368, 0, '17-04-2015'),\n",
       "  Text(369, 0, '18-04-2015'),\n",
       "  Text(370, 0, '19-04-2015'),\n",
       "  Text(371, 0, '20-04-2015'),\n",
       "  Text(372, 0, '21-04-2015'),\n",
       "  Text(373, 0, '22-04-2015'),\n",
       "  Text(374, 0, '23-04-2015'),\n",
       "  Text(375, 0, '24-04-2015'),\n",
       "  Text(376, 0, '25-04-2015'),\n",
       "  Text(377, 0, '26-04-2015'),\n",
       "  Text(378, 0, '27-04-2015'),\n",
       "  Text(379, 0, '07-05-2015'),\n",
       "  Text(380, 0, '29-04-2015'),\n",
       "  Text(381, 0, '28-04-2015'),\n",
       "  Text(382, 0, '01-05-2015'),\n",
       "  Text(383, 0, '02-05-2015'),\n",
       "  Text(384, 0, '03-05-2015'),\n",
       "  Text(385, 0, '04-05-2015'),\n",
       "  Text(386, 0, '05-05-2015'),\n",
       "  Text(387, 0, '06-05-2015'),\n",
       "  Text(388, 0, '08-05-2015'),\n",
       "  Text(389, 0, '09-05-2015'),\n",
       "  Text(390, 0, '10-05-2015'),\n",
       "  Text(391, 0, '11-05-2015'),\n",
       "  Text(392, 0, '12-05-2015'),\n",
       "  Text(393, 0, '13-05-2015'),\n",
       "  Text(394, 0, '14-05-2015'),\n",
       "  Text(395, 0, '15-05-2015'),\n",
       "  Text(396, 0, '16-05-2015'),\n",
       "  Text(397, 0, '17-05-2015'),\n",
       "  Text(398, 0, '19-05-2015'),\n",
       "  Text(399, 0, '20-05-2015'),\n",
       "  Text(400, 0, '22-05-2015'),\n",
       "  Text(401, 0, '24-05-2015'),\n",
       "  Text(402, 0, '09-04-2016'),\n",
       "  Text(403, 0, '10-04-2016'),\n",
       "  Text(404, 0, '11-04-2016'),\n",
       "  Text(405, 0, '12-04-2016'),\n",
       "  Text(406, 0, '13-04-2016'),\n",
       "  Text(407, 0, '14-04-2016'),\n",
       "  Text(408, 0, '15-04-2016'),\n",
       "  Text(409, 0, '16-04-2016'),\n",
       "  Text(410, 0, '17-04-2016'),\n",
       "  Text(411, 0, '18-04-2016'),\n",
       "  Text(412, 0, '19-04-2016'),\n",
       "  Text(413, 0, '20-04-2016'),\n",
       "  Text(414, 0, '21-04-2016'),\n",
       "  Text(415, 0, '22-04-2016'),\n",
       "  Text(416, 0, '23-04-2016'),\n",
       "  Text(417, 0, '24-04-2016'),\n",
       "  Text(418, 0, '25-04-2016'),\n",
       "  Text(419, 0, '26-04-2016'),\n",
       "  Text(420, 0, '27-04-2016'),\n",
       "  Text(421, 0, '28-04-2016'),\n",
       "  Text(422, 0, '29-04-2016'),\n",
       "  Text(423, 0, '30-04-2016'),\n",
       "  Text(424, 0, '01-05-2016'),\n",
       "  Text(425, 0, '02-05-2016'),\n",
       "  Text(426, 0, '03-05-2016'),\n",
       "  Text(427, 0, '04-05-2016'),\n",
       "  Text(428, 0, '05-05-2016'),\n",
       "  Text(429, 0, '06-05-2016'),\n",
       "  Text(430, 0, '07-05-2016'),\n",
       "  Text(431, 0, '08-05-2016'),\n",
       "  Text(432, 0, '09-05-2016'),\n",
       "  Text(433, 0, '10-05-2016'),\n",
       "  Text(434, 0, '11-05-2016'),\n",
       "  Text(435, 0, '12-05-2016'),\n",
       "  Text(436, 0, '13-05-2016'),\n",
       "  Text(437, 0, '14-05-2016'),\n",
       "  Text(438, 0, '15-05-2016'),\n",
       "  Text(439, 0, '16-05-2016'),\n",
       "  Text(440, 0, '17-05-2016'),\n",
       "  Text(441, 0, '18-05-2016'),\n",
       "  Text(442, 0, '19-05-2016'),\n",
       "  Text(443, 0, '20-05-2016'),\n",
       "  Text(444, 0, '21-05-2016'),\n",
       "  Text(445, 0, '22-05-2016'),\n",
       "  Text(446, 0, '24-05-2016'),\n",
       "  Text(447, 0, '25-05-2016'),\n",
       "  Text(448, 0, '27-05-2016'),\n",
       "  Text(449, 0, '29-05-2016'),\n",
       "  Text(450, 0, '07-04-2018'),\n",
       "  Text(451, 0, '08-04-2018'),\n",
       "  Text(452, 0, '09-04-2018'),\n",
       "  Text(453, 0, '10-04-2018'),\n",
       "  Text(454, 0, '11-04-2018'),\n",
       "  Text(455, 0, '12-04-2018'),\n",
       "  Text(456, 0, '13-04-2018'),\n",
       "  Text(457, 0, '14-04-2018'),\n",
       "  Text(458, 0, '15-04-2018'),\n",
       "  Text(459, 0, '16-04-2018'),\n",
       "  Text(460, 0, '17-04-2018'),\n",
       "  Text(461, 0, '18-04-2018'),\n",
       "  Text(462, 0, '19-04-2018'),\n",
       "  Text(463, 0, '20-04-2018'),\n",
       "  Text(464, 0, '21-04-2018'),\n",
       "  Text(465, 0, '22-04-2018'),\n",
       "  Text(466, 0, '23-04-2018'),\n",
       "  Text(467, 0, '24-04-2018'),\n",
       "  Text(468, 0, '25-04-2018'),\n",
       "  Text(469, 0, '26-04-2018'),\n",
       "  Text(470, 0, '27-04-2018'),\n",
       "  Text(471, 0, '28-04-2018'),\n",
       "  Text(472, 0, '29-04-2018'),\n",
       "  Text(473, 0, '30-04-2018'),\n",
       "  Text(474, 0, '01-05-2018'),\n",
       "  Text(475, 0, '02-05-2018'),\n",
       "  Text(476, 0, '03-05-2018'),\n",
       "  Text(477, 0, '04-05-2018'),\n",
       "  Text(478, 0, '05-05-2018'),\n",
       "  Text(479, 0, '06-05-2018'),\n",
       "  Text(480, 0, '07-05-2018'),\n",
       "  Text(481, 0, '08-05-2018'),\n",
       "  Text(482, 0, '09-05-2018'),\n",
       "  Text(483, 0, '10-05-2018'),\n",
       "  Text(484, 0, '11-05-2018'),\n",
       "  Text(485, 0, '12-05-2018'),\n",
       "  Text(486, 0, '13-05-2018'),\n",
       "  Text(487, 0, '14-05-2018'),\n",
       "  Text(488, 0, '15-05-2018'),\n",
       "  Text(489, 0, '16-05-2018'),\n",
       "  Text(490, 0, '17-05-2018'),\n",
       "  Text(491, 0, '18-05-2018'),\n",
       "  Text(492, 0, '19-05-2018'),\n",
       "  Text(493, 0, '20-05-2018'),\n",
       "  Text(494, 0, '22-05-2018'),\n",
       "  Text(495, 0, '23-05-2018'),\n",
       "  Text(496, 0, '25-05-2018'),\n",
       "  Text(497, 0, '27-05-2018'),\n",
       "  Text(498, 0, '23-03-2019'),\n",
       "  Text(499, 0, '24-03-2019'),\n",
       "  Text(500, 0, '25-03-2019'),\n",
       "  Text(501, 0, '26-03-2019'),\n",
       "  Text(502, 0, '27-03-2019'),\n",
       "  Text(503, 0, '28-03-2019'),\n",
       "  Text(504, 0, '29-03-2019'),\n",
       "  Text(505, 0, '30-03-2019'),\n",
       "  Text(506, 0, '31-03-2019'),\n",
       "  Text(507, 0, '01-04-2019'),\n",
       "  Text(508, 0, '02-04-2019'),\n",
       "  Text(509, 0, '03-04-2019'),\n",
       "  Text(510, 0, '04-04-2019'),\n",
       "  Text(511, 0, '05-04-2019'),\n",
       "  Text(512, 0, '06-04-2019'),\n",
       "  Text(513, 0, '07-04-2019'),\n",
       "  Text(514, 0, '08-04-2019'),\n",
       "  Text(515, 0, '09-04-2019'),\n",
       "  Text(516, 0, '10-04-2019'),\n",
       "  Text(517, 0, '11-04-2019'),\n",
       "  Text(518, 0, '12-04-2019'),\n",
       "  Text(519, 0, '13-04-2019'),\n",
       "  Text(520, 0, '14-04-2019'),\n",
       "  Text(521, 0, '15-04-2019'),\n",
       "  Text(522, 0, '16-04-2019'),\n",
       "  Text(523, 0, '17-04-2019'),\n",
       "  Text(524, 0, '18-04-2019'),\n",
       "  Text(525, 0, '19-04-2019'),\n",
       "  Text(526, 0, '20-04-2019'),\n",
       "  Text(527, 0, '21-04-2019'),\n",
       "  Text(528, 0, '22-04-2019'),\n",
       "  Text(529, 0, '23-04-2019'),\n",
       "  Text(530, 0, '24-04-2019'),\n",
       "  Text(531, 0, '25-04-2019'),\n",
       "  Text(532, 0, '26-04-2019'),\n",
       "  Text(533, 0, '27-04-2019'),\n",
       "  Text(534, 0, '28-04-2019'),\n",
       "  Text(535, 0, '29-04-2019'),\n",
       "  Text(536, 0, '30-04-2019'),\n",
       "  Text(537, 0, '01-05-2019'),\n",
       "  Text(538, 0, '02-05-2019'),\n",
       "  Text(539, 0, '03-05-2019'),\n",
       "  Text(540, 0, '04-05-2019'),\n",
       "  Text(541, 0, '05-05-2019'),\n",
       "  Text(542, 0, '07-05-2019'),\n",
       "  Text(543, 0, '08-05-2019'),\n",
       "  Text(544, 0, '10-05-2019'),\n",
       "  Text(545, 0, '12-05-2019')])"
      ]
     },
     "execution_count": 24,
     "metadata": {},
     "output_type": "execute_result"
    },
    {
     "data": {
      "image/png": "[encoded data removed]",
      "text/plain": [
       "<Figure size 432x288 with 1 Axes>"
      ]
     },
     "metadata": {
      "needs_background": "light"
     },
     "output_type": "display_data"
    }
   ],
   "source": [
    "sns.countplot(matches.date)\n",
    "plt.xticks(rotation=90)\n"
   ]
  },
  {
   "cell_type": "code",
   "execution_count": 25,
   "id": "91db4eaa",
   "metadata": {},
   "outputs": [
    {
     "data": {
      "text/plain": [
       "Mumbai Indians                 101\n",
       "Kings XI Punjab                 91\n",
       "Chennai Super Kings             89\n",
       "Royal Challengers Bangalore     85\n",
       "Kolkata Knight Riders           83\n",
       "Delhi Daredevils                72\n",
       "Rajasthan Royals                67\n",
       "Sunrisers Hyderabad             63\n",
       "Deccan Chargers                 43\n",
       "Pune Warriors                   20\n",
       "Rising Pune Supergiants         15\n",
       "Gujarat Lions                   14\n",
       "Kochi Tuskers Kerala             7\n",
       "Delhi Capitals                   6\n",
       "Name: team1, dtype: int64"
      ]
     },
     "execution_count": 25,
     "metadata": {},
     "output_type": "execute_result"
    }
   ],
   "source": [
    "#team1\n",
    "matches.team1.nunique()\n",
    "matches.team1.value_counts()"
   ]
  },
  {
   "cell_type": "code",
   "execution_count": 26,
   "id": "4d139b7d",
   "metadata": {},
   "outputs": [
    {
     "name": "stderr",
     "output_type": "stream",
     "text": [
      "C:\\Users\\HP\\anaconda3\\lib\\site-packages\\seaborn\\_decorators.py:36: FutureWarning: Pass the following variable as a keyword arg: x. From version 0.12, the only valid positional argument will be `data`, and passing other arguments without an explicit keyword will result in an error or misinterpretation.\n",
      "  warnings.warn(\n"
     ]
    },
    {
     "data": {
      "text/plain": [
       "(array([ 0,  1,  2,  3,  4,  5,  6,  7,  8,  9, 10, 11, 12, 13]),\n",
       " [Text(0, 0, 'Sunrisers Hyderabad'),\n",
       "  Text(1, 0, 'Mumbai Indians'),\n",
       "  Text(2, 0, 'Gujarat Lions'),\n",
       "  Text(3, 0, 'Rising Pune Supergiants'),\n",
       "  Text(4, 0, 'Royal Challengers Bangalore'),\n",
       "  Text(5, 0, 'Kolkata Knight Riders'),\n",
       "  Text(6, 0, 'Delhi Daredevils'),\n",
       "  Text(7, 0, 'Kings XI Punjab'),\n",
       "  Text(8, 0, 'Chennai Super Kings'),\n",
       "  Text(9, 0, 'Rajasthan Royals'),\n",
       "  Text(10, 0, 'Deccan Chargers'),\n",
       "  Text(11, 0, 'Kochi Tuskers Kerala'),\n",
       "  Text(12, 0, 'Pune Warriors'),\n",
       "  Text(13, 0, 'Delhi Capitals')])"
      ]
     },
     "execution_count": 26,
     "metadata": {},
     "output_type": "execute_result"
    },
    {
     "data": {
      "image/png": "[encoded data removed]",
      "text/plain": [
       "<Figure size 432x288 with 1 Axes>"
      ]
     },
     "metadata": {
      "needs_background": "light"
     },
     "output_type": "display_data"
    }
   ],
   "source": [
    "sns.countplot(matches.team1)\n",
    "plt.xticks(rotation=90)"
   ]
  },
  {
   "cell_type": "code",
   "execution_count": 27,
   "id": "9ff1d29a",
   "metadata": {},
   "outputs": [
    {
     "data": {
      "text/plain": [
       "Mumbai Indians                 101\n",
       "Kings XI Punjab                 91\n",
       "Chennai Super Kings             89\n",
       "Royal Challengers Bangalore     85\n",
       "Kolkata Knight Riders           83\n",
       "Delhi Daredevils                72\n",
       "Rajasthan Royals                67\n",
       "Sunrisers Hyderabad             63\n",
       "Deccan Chargers                 43\n",
       "Pune Warriors                   20\n",
       "Rising Pune Supergiants         15\n",
       "Gujarat Lions                   14\n",
       "Kochi Tuskers Kerala             7\n",
       "Delhi Capitals                   6\n",
       "Name: team1, dtype: int64"
      ]
     },
     "execution_count": 27,
     "metadata": {},
     "output_type": "execute_result"
    }
   ],
   "source": [
    "#teame2\n",
    "matches.team2.nunique()\n",
    "matches.team1.value_counts()"
   ]
  },
  {
   "cell_type": "code",
   "execution_count": 28,
   "id": "7daa6e16",
   "metadata": {},
   "outputs": [
    {
     "name": "stderr",
     "output_type": "stream",
     "text": [
      "C:\\Users\\HP\\anaconda3\\lib\\site-packages\\seaborn\\_decorators.py:36: FutureWarning: Pass the following variable as a keyword arg: x. From version 0.12, the only valid positional argument will be `data`, and passing other arguments without an explicit keyword will result in an error or misinterpretation.\n",
      "  warnings.warn(\n"
     ]
    },
    {
     "data": {
      "text/plain": [
       "(array([ 0,  1,  2,  3,  4,  5,  6,  7,  8,  9, 10, 11, 12, 13]),\n",
       " [Text(0, 0, 'Royal Challengers Bangalore'),\n",
       "  Text(1, 0, 'Rising Pune Supergiants'),\n",
       "  Text(2, 0, 'Kolkata Knight Riders'),\n",
       "  Text(3, 0, 'Kings XI Punjab'),\n",
       "  Text(4, 0, 'Delhi Daredevils'),\n",
       "  Text(5, 0, 'Sunrisers Hyderabad'),\n",
       "  Text(6, 0, 'Mumbai Indians'),\n",
       "  Text(7, 0, 'Gujarat Lions'),\n",
       "  Text(8, 0, 'Rajasthan Royals'),\n",
       "  Text(9, 0, 'Chennai Super Kings'),\n",
       "  Text(10, 0, 'Deccan Chargers'),\n",
       "  Text(11, 0, 'Pune Warriors'),\n",
       "  Text(12, 0, 'Kochi Tuskers Kerala'),\n",
       "  Text(13, 0, 'Delhi Capitals')])"
      ]
     },
     "execution_count": 28,
     "metadata": {},
     "output_type": "execute_result"
    },
    {
     "data": {
      "image/png": "[encoded data removed]",
      "text/plain": [
       "<Figure size 432x288 with 1 Axes>"
      ]
     },
     "metadata": {
      "needs_background": "light"
     },
     "output_type": "display_data"
    }
   ],
   "source": [
    "sns.countplot(matches.team2)\n",
    "plt.xticks(rotation=90)"
   ]
  },
  {
   "cell_type": "code",
   "execution_count": 29,
   "id": "52ce0522",
   "metadata": {},
   "outputs": [
    {
     "data": {
      "text/plain": [
       "Mumbai Indians                 98\n",
       "Kolkata Knight Riders          92\n",
       "Chennai Super Kings            89\n",
       "Royal Challengers Bangalore    81\n",
       "Kings XI Punjab                81\n",
       "Rajasthan Royals               80\n",
       "Delhi Daredevils               80\n",
       "Sunrisers Hyderabad            46\n",
       "Deccan Chargers                43\n",
       "Pune Warriors                  20\n",
       "Gujarat Lions                  15\n",
       "Rising Pune Supergiants        13\n",
       "Delhi Capitals                 10\n",
       "Kochi Tuskers Kerala            8\n",
       "Name: toss_winner, dtype: int64"
      ]
     },
     "execution_count": 29,
     "metadata": {},
     "output_type": "execute_result"
    }
   ],
   "source": [
    "#toss_winner\n",
    "matches.toss_winner.value_counts()"
   ]
  },
  {
   "cell_type": "code",
   "execution_count": 30,
   "id": "e0808503",
   "metadata": {},
   "outputs": [
    {
     "name": "stderr",
     "output_type": "stream",
     "text": [
      "C:\\Users\\HP\\anaconda3\\lib\\site-packages\\seaborn\\_decorators.py:36: FutureWarning: Pass the following variable as a keyword arg: x. From version 0.12, the only valid positional argument will be `data`, and passing other arguments without an explicit keyword will result in an error or misinterpretation.\n",
      "  warnings.warn(\n"
     ]
    },
    {
     "data": {
      "text/plain": [
       "(array([ 0,  1,  2,  3,  4,  5,  6,  7,  8,  9, 10, 11, 12, 13]),\n",
       " [Text(0, 0, 'Royal Challengers Bangalore'),\n",
       "  Text(1, 0, 'Rising Pune Supergiants'),\n",
       "  Text(2, 0, 'Kolkata Knight Riders'),\n",
       "  Text(3, 0, 'Kings XI Punjab'),\n",
       "  Text(4, 0, 'Sunrisers Hyderabad'),\n",
       "  Text(5, 0, 'Mumbai Indians'),\n",
       "  Text(6, 0, 'Gujarat Lions'),\n",
       "  Text(7, 0, 'Delhi Daredevils'),\n",
       "  Text(8, 0, 'Chennai Super Kings'),\n",
       "  Text(9, 0, 'Rajasthan Royals'),\n",
       "  Text(10, 0, 'Deccan Chargers'),\n",
       "  Text(11, 0, 'Kochi Tuskers Kerala'),\n",
       "  Text(12, 0, 'Pune Warriors'),\n",
       "  Text(13, 0, 'Delhi Capitals')])"
      ]
     },
     "execution_count": 30,
     "metadata": {},
     "output_type": "execute_result"
    },
    {
     "data": {
      "image/png": "[encoded data removed]",
      "text/plain": [
       "<Figure size 432x288 with 1 Axes>"
      ]
     },
     "metadata": {
      "needs_background": "light"
     },
     "output_type": "display_data"
    }
   ],
   "source": [
    "sns.countplot(matches.toss_winner)\n",
    "plt.xticks(rotation=90)"
   ]
  },
  {
   "cell_type": "code",
   "execution_count": 31,
   "id": "18a6ec89",
   "metadata": {},
   "outputs": [
    {
     "data": {
      "text/plain": [
       "field    463\n",
       "bat      293\n",
       "Name: toss_decision, dtype: int64"
      ]
     },
     "execution_count": 31,
     "metadata": {},
     "output_type": "execute_result"
    }
   ],
   "source": [
    "#toss_decision\n",
    "matches.toss_decision.value_counts()"
   ]
  },
  {
   "cell_type": "code",
   "execution_count": 32,
   "id": "24bc3332",
   "metadata": {},
   "outputs": [
    {
     "data": {
      "text/plain": [
       "array(['field', 'bat'], dtype=object)"
      ]
     },
     "execution_count": 32,
     "metadata": {},
     "output_type": "execute_result"
    }
   ],
   "source": [
    "matches.toss_decision.unique()\n"
   ]
  },
  {
   "cell_type": "code",
   "execution_count": 33,
   "id": "835d8f45",
   "metadata": {},
   "outputs": [
    {
     "data": {
      "text/plain": [
       "3"
      ]
     },
     "execution_count": 33,
     "metadata": {},
     "output_type": "execute_result"
    }
   ],
   "source": [
    "#result\n",
    "matches.result.unique()\n",
    "matches.result.nunique()"
   ]
  },
  {
   "cell_type": "code",
   "execution_count": 34,
   "id": "2c28f874",
   "metadata": {},
   "outputs": [
    {
     "data": {
      "text/plain": [
       "normal       743\n",
       "tie            9\n",
       "no result      4\n",
       "Name: result, dtype: int64"
      ]
     },
     "execution_count": 34,
     "metadata": {},
     "output_type": "execute_result"
    }
   ],
   "source": [
    "matches.result.value_counts()"
   ]
  },
  {
   "cell_type": "code",
   "execution_count": 35,
   "id": "1cf70bb0",
   "metadata": {},
   "outputs": [
    {
     "name": "stderr",
     "output_type": "stream",
     "text": [
      "C:\\Users\\HP\\anaconda3\\lib\\site-packages\\seaborn\\_decorators.py:36: FutureWarning: Pass the following variable as a keyword arg: x. From version 0.12, the only valid positional argument will be `data`, and passing other arguments without an explicit keyword will result in an error or misinterpretation.\n",
      "  warnings.warn(\n"
     ]
    },
    {
     "data": {
      "text/plain": [
       "(array([0, 1, 2]),\n",
       " [Text(0, 0, 'normal'), Text(1, 0, 'tie'), Text(2, 0, 'no result')])"
      ]
     },
     "execution_count": 35,
     "metadata": {},
     "output_type": "execute_result"
    },
    {
     "data": {
      "image/png": "[encoded data removed]",
      "text/plain": [
       "<Figure size 432x288 with 1 Axes>"
      ]
     },
     "metadata": {
      "needs_background": "light"
     },
     "output_type": "display_data"
    }
   ],
   "source": [
    "sns.countplot(matches.result)\n",
    "plt.xticks(rotation=90)\n"
   ]
  },
  {
   "cell_type": "code",
   "execution_count": 36,
   "id": "03754b47",
   "metadata": {},
   "outputs": [
    {
     "data": {
      "text/plain": [
       "2"
      ]
     },
     "execution_count": 36,
     "metadata": {},
     "output_type": "execute_result"
    }
   ],
   "source": [
    "#dl_applied\n",
    "matches.dl_applied.unique()\n",
    "matches.dl_applied.nunique()"
   ]
  },
  {
   "cell_type": "code",
   "execution_count": 37,
   "id": "4e8a53cd",
   "metadata": {},
   "outputs": [
    {
     "data": {
      "text/plain": [
       "0    737\n",
       "1     19\n",
       "Name: dl_applied, dtype: int64"
      ]
     },
     "execution_count": 37,
     "metadata": {},
     "output_type": "execute_result"
    }
   ],
   "source": [
    "matches.dl_applied.value_counts()"
   ]
  },
  {
   "cell_type": "code",
   "execution_count": 38,
   "id": "53faf839",
   "metadata": {},
   "outputs": [
    {
     "name": "stderr",
     "output_type": "stream",
     "text": [
      "C:\\Users\\HP\\anaconda3\\lib\\site-packages\\seaborn\\_decorators.py:36: FutureWarning: Pass the following variable as a keyword arg: x. From version 0.12, the only valid positional argument will be `data`, and passing other arguments without an explicit keyword will result in an error or misinterpretation.\n",
      "  warnings.warn(\n"
     ]
    },
    {
     "data": {
      "text/plain": [
       "(array([0, 1]), [Text(0, 0, '0'), Text(1, 0, '1')])"
      ]
     },
     "execution_count": 38,
     "metadata": {},
     "output_type": "execute_result"
    },
    {
     "data": {
      "image/png": "[encoded data removed]",
      "text/plain": [
       "<Figure size 432x288 with 1 Axes>"
      ]
     },
     "metadata": {
      "needs_background": "light"
     },
     "output_type": "display_data"
    }
   ],
   "source": [
    "sns.countplot(matches.dl_applied)\n",
    "plt.xticks(rotation=90)"
   ]
  },
  {
   "cell_type": "code",
   "execution_count": 41,
   "id": "8bb281de",
   "metadata": {},
   "outputs": [
    {
     "data": {
      "text/plain": [
       "Mumbai Indians                 109\n",
       "Chennai Super Kings            100\n",
       "Kolkata Knight Riders           92\n",
       "Royal Challengers Bangalore     84\n",
       "Kings XI Punjab                 82\n",
       "Rajasthan Royals                75\n",
       "Delhi Daredevils                67\n",
       "Sunrisers Hyderabad             58\n",
       "Deccan Chargers                 29\n",
       "Rising Pune Supergiants         15\n",
       "Gujarat Lions                   13\n",
       "Pune Warriors                   12\n",
       "Delhi Capitals                  10\n",
       "Kochi Tuskers Kerala             6\n",
       "Name: winner, dtype: int64"
      ]
     },
     "execution_count": 41,
     "metadata": {},
     "output_type": "execute_result"
    }
   ],
   "source": [
    "\n",
    "#winner\n",
    "matches.winner.isnull().sum()\n",
    "matches.winner.value_counts()"
   ]
  },
  {
   "cell_type": "code",
   "execution_count": 42,
   "id": "f5da05d9",
   "metadata": {},
   "outputs": [
    {
     "name": "stderr",
     "output_type": "stream",
     "text": [
      "C:\\Users\\HP\\anaconda3\\lib\\site-packages\\seaborn\\_decorators.py:36: FutureWarning: Pass the following variable as a keyword arg: x. From version 0.12, the only valid positional argument will be `data`, and passing other arguments without an explicit keyword will result in an error or misinterpretation.\n",
      "  warnings.warn(\n"
     ]
    },
    {
     "data": {
      "image/png": "[encoded data removed]",
      "text/plain": [
       "<Figure size 432x288 with 1 Axes>"
      ]
     },
     "metadata": {
      "needs_background": "light"
     },
     "output_type": "display_data"
    }
   ],
   "source": [
    "sns.countplot(matches.winner)\n",
    "plt.xticks(rotation=90)\n",
    "matches.winner.fillna(\"tie\",inplace = True)"
   ]
  },
  {
   "cell_type": "code",
   "execution_count": 43,
   "id": "b61d4196",
   "metadata": {},
   "outputs": [
    {
     "data": {
      "text/plain": [
       "0"
      ]
     },
     "execution_count": 43,
     "metadata": {},
     "output_type": "execute_result"
    }
   ],
   "source": [
    "#matches.winner.fillna(\"no result\", inplace = True)\n",
    "matches.winner.isnull().sum()\n"
   ]
  },
  {
   "cell_type": "code",
   "execution_count": 44,
   "id": "0f8ccedf",
   "metadata": {},
   "outputs": [
    {
     "data": {
      "text/plain": [
       "array([ 35,   0,  15,  97,  17,  51,  27,   5,  21,  14,  26,  82,   3,\n",
       "        61,  48,  19,  12, 146,   7,   9,  10,  20,   1, 140,  33,   6,\n",
       "        66,  13,  45,  29,  18,  23,  41,  65,  25, 105,  75,  92,  11,\n",
       "        24,  38,   8,  78,  16,  53,   2,   4,  31,  55,  98,  34,  36,\n",
       "        39,  40,  67,  63,  37,  57,  22,  85,  32,  76, 111,  43,  58,\n",
       "        28,  74,  42,  59,  46,  47,  86,  44,  87, 130,  60,  77,  30,\n",
       "        50,  93,  72,  62, 138,  71, 144,  80,  64, 102, 118], dtype=int64)"
      ]
     },
     "execution_count": 44,
     "metadata": {},
     "output_type": "execute_result"
    }
   ],
   "source": [
    "#win_by_runs\n",
    "matches.win_by_runs.isnull().sum()\n",
    "matches.win_by_runs.unique()"
   ]
  },
  {
   "cell_type": "code",
   "execution_count": 45,
   "id": "2ca4c92d",
   "metadata": {},
   "outputs": [
    {
     "data": {
      "text/plain": [
       "89"
      ]
     },
     "execution_count": 45,
     "metadata": {},
     "output_type": "execute_result"
    }
   ],
   "source": [
    "matches.win_by_runs.nunique()"
   ]
  },
  {
   "cell_type": "code",
   "execution_count": 48,
   "id": "c977ca81",
   "metadata": {},
   "outputs": [
    {
     "data": {
      "text/plain": [
       "146"
      ]
     },
     "execution_count": 48,
     "metadata": {},
     "output_type": "execute_result"
    }
   ],
   "source": [
    "matches.win_by_runs.value_counts()\n",
    "matches.win_by_runs.aggregate(max)"
   ]
  },
  {
   "cell_type": "code",
   "execution_count": 49,
   "id": "239a6f15",
   "metadata": {},
   "outputs": [
    {
     "data": {
      "text/plain": [
       "11"
      ]
     },
     "execution_count": 49,
     "metadata": {},
     "output_type": "execute_result"
    }
   ],
   "source": [
    "#win_by_wickets\n",
    "matches.win_by_wickets.unique()\n",
    "matches.win_by_wickets.nunique()"
   ]
  },
  {
   "cell_type": "code",
   "execution_count": 50,
   "id": "5992279c",
   "metadata": {},
   "outputs": [
    {
     "data": {
      "text/plain": [
       "0"
      ]
     },
     "execution_count": 50,
     "metadata": {},
     "output_type": "execute_result"
    }
   ],
   "source": [
    "matches.win_by_wickets.isnull().sum()"
   ]
  },
  {
   "cell_type": "code",
   "execution_count": 51,
   "id": "26758803",
   "metadata": {},
   "outputs": [
    {
     "data": {
      "text/plain": [
       "4"
      ]
     },
     "execution_count": 51,
     "metadata": {},
     "output_type": "execute_result"
    }
   ],
   "source": [
    "#player_of_match\n",
    "matches.player_of_match.isnull().sum() "
   ]
  },
  {
   "cell_type": "code",
   "execution_count": null,
   "id": "41f57cc8",
   "metadata": {},
   "outputs": [],
   "source": [
    "#Have 4 null values"
   ]
  },
  {
   "cell_type": "code",
   "execution_count": 52,
   "id": "125e5d9f",
   "metadata": {},
   "outputs": [
    {
     "data": {
      "text/plain": [
       "226"
      ]
     },
     "execution_count": 52,
     "metadata": {},
     "output_type": "execute_result"
    }
   ],
   "source": [
    "matches.player_of_match.unique()\n",
    "matches.player_of_match.nunique()"
   ]
  },
  {
   "cell_type": "code",
   "execution_count": 53,
   "id": "9df1540e",
   "metadata": {},
   "outputs": [
    {
     "data": {
      "text/plain": [
       "CH Gayle          21\n",
       "AB de Villiers    20\n",
       "DA Warner         17\n",
       "RG Sharma         17\n",
       "MS Dhoni          17\n",
       "                  ..\n",
       "MS Bisla           1\n",
       "LJ Wright          1\n",
       "SM Katich          1\n",
       "R McLaren          1\n",
       "CL White           1\n",
       "Name: player_of_match, Length: 226, dtype: int64"
      ]
     },
     "execution_count": 53,
     "metadata": {},
     "output_type": "execute_result"
    }
   ],
   "source": [
    "matches.player_of_match.value_counts()"
   ]
  },
  {
   "cell_type": "code",
   "execution_count": 54,
   "id": "813342d8",
   "metadata": {},
   "outputs": [
    {
     "name": "stderr",
     "output_type": "stream",
     "text": [
      "C:\\Users\\HP\\anaconda3\\lib\\site-packages\\seaborn\\_decorators.py:36: FutureWarning: Pass the following variable as a keyword arg: x. From version 0.12, the only valid positional argument will be `data`, and passing other arguments without an explicit keyword will result in an error or misinterpretation.\n",
      "  warnings.warn(\n"
     ]
    },
    {
     "data": {
      "text/plain": [
       "(array([  0,   1,   2,   3,   4,   5,   6,   7,   8,   9,  10,  11,  12,\n",
       "         13,  14,  15,  16,  17,  18,  19,  20,  21,  22,  23,  24,  25,\n",
       "         26,  27,  28,  29,  30,  31,  32,  33,  34,  35,  36,  37,  38,\n",
       "         39,  40,  41,  42,  43,  44,  45,  46,  47,  48,  49,  50,  51,\n",
       "         52,  53,  54,  55,  56,  57,  58,  59,  60,  61,  62,  63,  64,\n",
       "         65,  66,  67,  68,  69,  70,  71,  72,  73,  74,  75,  76,  77,\n",
       "         78,  79,  80,  81,  82,  83,  84,  85,  86,  87,  88,  89,  90,\n",
       "         91,  92,  93,  94,  95,  96,  97,  98,  99, 100, 101, 102, 103,\n",
       "        104, 105, 106, 107, 108, 109, 110, 111, 112, 113, 114, 115, 116,\n",
       "        117, 118, 119, 120, 121, 122, 123, 124, 125, 126, 127, 128, 129,\n",
       "        130, 131, 132, 133, 134, 135, 136, 137, 138, 139, 140, 141, 142,\n",
       "        143, 144, 145, 146, 147, 148, 149, 150, 151, 152, 153, 154, 155,\n",
       "        156, 157, 158, 159, 160, 161, 162, 163, 164, 165, 166, 167, 168,\n",
       "        169, 170, 171, 172, 173, 174, 175, 176, 177, 178, 179, 180, 181,\n",
       "        182, 183, 184, 185, 186, 187, 188, 189, 190, 191, 192, 193, 194,\n",
       "        195, 196, 197, 198, 199, 200, 201, 202, 203, 204, 205, 206, 207,\n",
       "        208, 209, 210, 211, 212, 213, 214, 215, 216, 217, 218, 219, 220,\n",
       "        221, 222, 223, 224, 225]),\n",
       " [Text(0, 0, 'Yuvraj Singh'),\n",
       "  Text(1, 0, 'SPD Smith'),\n",
       "  Text(2, 0, 'CA Lynn'),\n",
       "  Text(3, 0, 'GJ Maxwell'),\n",
       "  Text(4, 0, 'KM Jadhav'),\n",
       "  Text(5, 0, 'Rashid Khan'),\n",
       "  Text(6, 0, 'N Rana'),\n",
       "  Text(7, 0, 'AR Patel'),\n",
       "  Text(8, 0, 'SV Samson'),\n",
       "  Text(9, 0, 'JJ Bumrah'),\n",
       "  Text(10, 0, 'SP Narine'),\n",
       "  Text(11, 0, 'KA Pollard'),\n",
       "  Text(12, 0, 'AJ Tye'),\n",
       "  Text(13, 0, 'RV Uthappa'),\n",
       "  Text(14, 0, 'CJ Anderson'),\n",
       "  Text(15, 0, 'BA Stokes'),\n",
       "  Text(16, 0, 'NM Coulter-Nile'),\n",
       "  Text(17, 0, 'B Kumar'),\n",
       "  Text(18, 0, 'CH Gayle'),\n",
       "  Text(19, 0, 'KS Williamson'),\n",
       "  Text(20, 0, 'JC Buttler'),\n",
       "  Text(21, 0, 'SK Raina'),\n",
       "  Text(22, 0, 'MJ McClenaghan'),\n",
       "  Text(23, 0, 'MS Dhoni'),\n",
       "  Text(24, 0, 'HM Amla'),\n",
       "  Text(25, 0, 'G Gambhir'),\n",
       "  Text(26, 0, 'LH Ferguson'),\n",
       "  Text(27, 0, 'KH Pandya'),\n",
       "  Text(28, 0, 'Sandeep Sharma'),\n",
       "  Text(29, 0, 'DA Warner'),\n",
       "  Text(30, 0, 'RG Sharma'),\n",
       "  Text(31, 0, 'Mohammed Shami'),\n",
       "  Text(32, 0, 'RA Tripathi'),\n",
       "  Text(33, 0, 'RR Pant'),\n",
       "  Text(34, 0, 'JD Unadkat'),\n",
       "  Text(35, 0, 'LMP Simmons'),\n",
       "  Text(36, 0, 'DR Smith'),\n",
       "  Text(37, 0, 'S Dhawan'),\n",
       "  Text(38, 0, 'MM Sharma'),\n",
       "  Text(39, 0, 'SS Iyer'),\n",
       "  Text(40, 0, 'WP Saha'),\n",
       "  Text(41, 0, 'KK Nair'),\n",
       "  Text(42, 0, 'Mohammed Siraj'),\n",
       "  Text(43, 0, 'AT Rayudu'),\n",
       "  Text(44, 0, 'HV Patel'),\n",
       "  Text(45, 0, 'Washington Sundar'),\n",
       "  Text(46, 0, 'KV Sharma'),\n",
       "  Text(47, 0, 'BB McCullum'),\n",
       "  Text(48, 0, 'MEK Hussey'),\n",
       "  Text(49, 0, 'MF Maharoof'),\n",
       "  Text(50, 0, 'MV Boucher'),\n",
       "  Text(51, 0, 'DJ Hussey'),\n",
       "  Text(52, 0, 'SR Watson'),\n",
       "  Text(53, 0, 'V Sehwag'),\n",
       "  Text(54, 0, 'ML Hayden'),\n",
       "  Text(55, 0, 'YK Pathan'),\n",
       "  Text(56, 0, 'KC Sangakkara'),\n",
       "  Text(57, 0, 'JDP Oram'),\n",
       "  Text(58, 0, 'AC Gilchrist'),\n",
       "  Text(59, 0, 'SM Katich'),\n",
       "  Text(60, 0, 'ST Jayasuriya'),\n",
       "  Text(61, 0, 'GD McGrath'),\n",
       "  Text(62, 0, 'SE Marsh'),\n",
       "  Text(63, 0, 'SA Asnodkar'),\n",
       "  Text(64, 0, 'R Vinay Kumar'),\n",
       "  Text(65, 0, 'IK Pathan'),\n",
       "  Text(66, 0, 'SM Pollock'),\n",
       "  Text(67, 0, 'Sohail Tanvir'),\n",
       "  Text(68, 0, 'S Sreesanth'),\n",
       "  Text(69, 0, 'A Nehra'),\n",
       "  Text(70, 0, 'SC Ganguly'),\n",
       "  Text(71, 0, 'CRD Fernando'),\n",
       "  Text(72, 0, 'L Balaji'),\n",
       "  Text(73, 0, 'Shoaib Akhtar'),\n",
       "  Text(74, 0, 'A Mishra'),\n",
       "  Text(75, 0, 'DPMD Jayawardene'),\n",
       "  Text(76, 0, 'GC Smith'),\n",
       "  Text(77, 0, 'DJ Bravo'),\n",
       "  Text(78, 0, 'M Ntini'),\n",
       "  Text(79, 0, 'SP Goswami'),\n",
       "  Text(80, 0, 'A Kumble'),\n",
       "  Text(81, 0, 'KD Karthik'),\n",
       "  Text(82, 0, 'JA Morkel'),\n",
       "  Text(83, 0, 'P Kumar'),\n",
       "  Text(84, 0, 'Umar Gul'),\n",
       "  Text(85, 0, 'SR Tendulkar'),\n",
       "  Text(86, 0, 'R Dravid'),\n",
       "  Text(87, 0, 'DL Vettori'),\n",
       "  Text(88, 0, 'RP Singh'),\n",
       "  Text(89, 0, 'M Muralitharan'),\n",
       "  Text(90, 0, 'AB de Villiers'),\n",
       "  Text(91, 0, 'RS Bopara'),\n",
       "  Text(92, 0, 'PP Ojha'),\n",
       "  Text(93, 0, 'TM Dilshan'),\n",
       "  Text(94, 0, 'HH Gibbs'),\n",
       "  Text(95, 0, 'DP Nannes'),\n",
       "  Text(96, 0, 'JP Duminy'),\n",
       "  Text(97, 0, 'SB Jakati'),\n",
       "  Text(98, 0, 'JH Kallis'),\n",
       "  Text(99, 0, 'A Singh'),\n",
       "  Text(100, 0, 'S Badrinath'),\n",
       "  Text(101, 0, 'LRPL Taylor'),\n",
       "  Text(102, 0, 'Harbhajan Singh'),\n",
       "  Text(103, 0, 'R Bhatia'),\n",
       "  Text(104, 0, 'SK Warne'),\n",
       "  Text(105, 0, 'B Lee'),\n",
       "  Text(106, 0, 'BJ Hodge'),\n",
       "  Text(107, 0, 'LR Shukla'),\n",
       "  Text(108, 0, 'MK Pandey'),\n",
       "  Text(109, 0, 'AD Mathews'),\n",
       "  Text(110, 0, 'MK Tiwary'),\n",
       "  Text(111, 0, 'WPUJC Vaas'),\n",
       "  Text(112, 0, 'A Symonds'),\n",
       "  Text(113, 0, 'AA Jhunjhunwala'),\n",
       "  Text(114, 0, 'J Theron'),\n",
       "  Text(115, 0, 'AC Voges'),\n",
       "  Text(116, 0, 'NV Ojha'),\n",
       "  Text(117, 0, 'SL Malinga'),\n",
       "  Text(118, 0, 'M Vijay'),\n",
       "  Text(119, 0, 'KP Pietersen'),\n",
       "  Text(120, 0, 'PD Collingwood'),\n",
       "  Text(121, 0, 'MJ Lumb'),\n",
       "  Text(122, 0, 'TL Suman'),\n",
       "  Text(123, 0, 'RJ Harris'),\n",
       "  Text(124, 0, 'PP Chawla'),\n",
       "  Text(125, 0, 'Harmeet Singh'),\n",
       "  Text(126, 0, 'R Ashwin'),\n",
       "  Text(127, 0, 'R McLaren'),\n",
       "  Text(128, 0, 'M Kartik'),\n",
       "  Text(129, 0, 'DE Bollinger'),\n",
       "  Text(130, 0, 'S Anirudha'),\n",
       "  Text(131, 0, 'SK Trivedi'),\n",
       "  Text(132, 0, 'SB Wagh'),\n",
       "  Text(133, 0, 'PC Valthaty'),\n",
       "  Text(134, 0, 'MD Mishra'),\n",
       "  Text(135, 0, 'DW Steyn'),\n",
       "  Text(136, 0, 'S Sohal'),\n",
       "  Text(137, 0, 'MM Patel'),\n",
       "  Text(138, 0, 'V Kohli'),\n",
       "  Text(139, 0, 'I Sharma'),\n",
       "  Text(140, 0, 'J Botha'),\n",
       "  Text(141, 0, 'Iqbal Abdulla'),\n",
       "  Text(142, 0, 'P Parameswaran'),\n",
       "  Text(143, 0, 'R Sharma'),\n",
       "  Text(144, 0, 'MR Marsh'),\n",
       "  Text(145, 0, 'BA Bhatt'),\n",
       "  Text(146, 0, 'S Aravind'),\n",
       "  Text(147, 0, 'JEC Franklin'),\n",
       "  Text(148, 0, 'RE Levi'),\n",
       "  Text(149, 0, 'AM Rahane'),\n",
       "  Text(150, 0, 'RA Jadeja'),\n",
       "  Text(151, 0, 'MN Samuels'),\n",
       "  Text(152, 0, 'M Morkel'),\n",
       "  Text(153, 0, 'F du Plessis'),\n",
       "  Text(154, 0, 'AD Mascarenhas'),\n",
       "  Text(155, 0, 'Shakib Al Hasan'),\n",
       "  Text(156, 0, 'JD Ryder'),\n",
       "  Text(157, 0, 'S Nadeem'),\n",
       "  Text(158, 0, 'KMDN Kulasekara'),\n",
       "  Text(159, 0, 'CL White'),\n",
       "  Text(160, 0, 'Mandeep Singh'),\n",
       "  Text(161, 0, 'P Negi'),\n",
       "  Text(162, 0, 'Azhar Mahmood'),\n",
       "  Text(163, 0, 'BW Hilfenhaus'),\n",
       "  Text(164, 0, 'A Chandila'),\n",
       "  Text(165, 0, 'UT Yadav'),\n",
       "  Text(166, 0, 'MS Bisla'),\n",
       "  Text(167, 0, 'M Vohra'),\n",
       "  Text(168, 0, 'GH Vihari'),\n",
       "  Text(169, 0, 'AJ Finch'),\n",
       "  Text(170, 0, 'JP Faulkner'),\n",
       "  Text(171, 0, 'MS Gony'),\n",
       "  Text(172, 0, 'DA Miller'),\n",
       "  Text(173, 0, 'DJG Sammy'),\n",
       "  Text(174, 0, 'MG Johnson'),\n",
       "  Text(175, 0, 'KK Cooper'),\n",
       "  Text(176, 0, 'PA Patel'),\n",
       "  Text(177, 0, 'AP Tare'),\n",
       "  Text(178, 0, 'LJ Wright'),\n",
       "  Text(179, 0, 'YS Chahal'),\n",
       "  Text(180, 0, 'PV Tambe'),\n",
       "  Text(181, 0, 'DJ Hooda'),\n",
       "  Text(182, 0, 'GJ Bailey'),\n",
       "  Text(183, 0, 'AD Russell'),\n",
       "  Text(184, 0, 'MA Agarwal'),\n",
       "  Text(185, 0, 'MA Starc'),\n",
       "  Text(186, 0, 'VR Aaron'),\n",
       "  Text(187, 0, 'TA Boult'),\n",
       "  Text(188, 0, 'EJG Morgan'),\n",
       "  Text(189, 0, 'HH Pandya'),\n",
       "  Text(190, 0, 'MC Henriques'),\n",
       "  Text(191, 0, 'Z Khan'),\n",
       "  Text(192, 0, 'Q de Kock'),\n",
       "  Text(193, 0, 'Mustafizur Rahman'),\n",
       "  Text(194, 0, 'SA Yadav'),\n",
       "  Text(195, 0, 'AB Dinda'),\n",
       "  Text(196, 0, 'CH Morris'),\n",
       "  Text(197, 0, 'CR Brathwaite'),\n",
       "  Text(198, 0, 'MP Stoinis'),\n",
       "  Text(199, 0, 'A Zampa'),\n",
       "  Text(200, 0, 'BCJ Cutting'),\n",
       "  Text(201, 0, 'KL Rahul'),\n",
       "  Text(202, 0, 'SW Billings'),\n",
       "  Text(203, 0, 'JJ Roy'),\n",
       "  Text(204, 0, 'B Stanlake'),\n",
       "  Text(205, 0, 'J Archer'),\n",
       "  Text(206, 0, 'AS Rajpoot'),\n",
       "  Text(207, 0, 'TG Southee'),\n",
       "  Text(208, 0, 'AS Yadav'),\n",
       "  Text(209, 0, 'M Ur Rahman'),\n",
       "  Text(210, 0, 'Ishan Kishan'),\n",
       "  Text(211, 0, 'Kuldeep Yadav'),\n",
       "  Text(212, 0, 'S Gopal'),\n",
       "  Text(213, 0, 'L Ngidi'),\n",
       "  Text(214, 0, 'P Shaw'),\n",
       "  Text(215, 0, 'J Bairstow'),\n",
       "  Text(216, 0, 'S Curran'),\n",
       "  Text(217, 0, 'A Joseph'),\n",
       "  Text(218, 0, 'K Rabada'),\n",
       "  Text(219, 0, 'H Gurney'),\n",
       "  Text(220, 0, 'DL Chahar'),\n",
       "  Text(221, 0, 'Imran Tahir'),\n",
       "  Text(222, 0, 'K Paul'),\n",
       "  Text(223, 0, 'K Ahmed'),\n",
       "  Text(224, 0, 'S Gill'),\n",
       "  Text(225, 0, 'S Hetmyer')])"
      ]
     },
     "execution_count": 54,
     "metadata": {},
     "output_type": "execute_result"
    },
    {
     "data": {
      "image/png": "[encoded data removed]",
      "text/plain": [
       "<Figure size 432x288 with 1 Axes>"
      ]
     },
     "metadata": {
      "needs_background": "light"
     },
     "output_type": "display_data"
    }
   ],
   "source": [
    "sns.countplot(matches.player_of_match)\n",
    "plt.xticks(rotation=90)"
   ]
  },
  {
   "cell_type": "code",
   "execution_count": 55,
   "id": "6f0c0823",
   "metadata": {},
   "outputs": [
    {
     "data": {
      "text/plain": [
       "0"
      ]
     },
     "execution_count": 55,
     "metadata": {},
     "output_type": "execute_result"
    }
   ],
   "source": [
    "matches.player_of_match.fillna(\"no result\",inplace = True)\n",
    "matches.player_of_match.isnull().sum() \n"
   ]
  },
  {
   "cell_type": "code",
   "execution_count": 56,
   "id": "6ddbd85c",
   "metadata": {},
   "outputs": [
    {
     "data": {
      "text/plain": [
       "41"
      ]
     },
     "execution_count": 56,
     "metadata": {},
     "output_type": "execute_result"
    }
   ],
   "source": [
    "#venue\n",
    "matches.venue.isnull().sum()\n",
    "matches.venue.unique()\n",
    "matches.venue.nunique()"
   ]
  },
  {
   "cell_type": "code",
   "execution_count": 57,
   "id": "d6d37203",
   "metadata": {},
   "outputs": [
    {
     "data": {
      "text/plain": [
       "Eden Gardens                                            77\n",
       "Wankhede Stadium                                        73\n",
       "M Chinnaswamy Stadium                                   73\n",
       "Feroz Shah Kotla                                        67\n",
       "Rajiv Gandhi International Stadium, Uppal               56\n",
       "MA Chidambaram Stadium, Chepauk                         49\n",
       "Sawai Mansingh Stadium                                  47\n",
       "Punjab Cricket Association Stadium, Mohali              35\n",
       "Maharashtra Cricket Association Stadium                 21\n",
       "Subrata Roy Sahara Stadium                              17\n",
       "Dr DY Patil Sports Academy                              17\n",
       "Kingsmead                                               15\n",
       "Punjab Cricket Association IS Bindra Stadium, Mohali    14\n",
       "Sardar Patel Stadium, Motera                            12\n",
       "SuperSport Park                                         12\n",
       "Dr. Y.S. Rajasekhara Reddy ACA-VDCA Cricket Stadium     11\n",
       "Brabourne Stadium                                       11\n",
       "Saurashtra Cricket Association Stadium                  10\n",
       "Himachal Pradesh Cricket Association Stadium             9\n",
       "Holkar Cricket Stadium                                   9\n",
       "M. A. Chidambaram Stadium                                8\n",
       "Rajiv Gandhi Intl. Cricket Stadium                       8\n",
       "New Wanderers Stadium                                    8\n",
       "IS Bindra Stadium                                        7\n",
       "St George's Park                                         7\n",
       "JSCA International Stadium Complex                       7\n",
       "Barabati Stadium                                         7\n",
       "M. Chinnaswamy Stadium                                   7\n",
       "Sheikh Zayed Stadium                                     7\n",
       "Feroz Shah Kotla Ground                                  7\n",
       "Newlands                                                 7\n",
       "Dubai International Cricket Stadium                      7\n",
       "Sharjah Cricket Stadium                                  6\n",
       "Shaheed Veer Narayan Singh International Stadium         6\n",
       "Nehru Stadium                                            5\n",
       "Green Park                                               4\n",
       "De Beers Diamond Oval                                    3\n",
       "Buffalo Park                                             3\n",
       "Vidarbha Cricket Association Stadium, Jamtha             3\n",
       "ACA-VDCA Stadium                                         2\n",
       "OUTsurance Oval                                          2\n",
       "Name: venue, dtype: int64"
      ]
     },
     "execution_count": 57,
     "metadata": {},
     "output_type": "execute_result"
    }
   ],
   "source": [
    "matches.venue.value_counts()"
   ]
  },
  {
   "cell_type": "code",
   "execution_count": 58,
   "id": "89f7a870",
   "metadata": {},
   "outputs": [
    {
     "name": "stderr",
     "output_type": "stream",
     "text": [
      "C:\\Users\\HP\\anaconda3\\lib\\site-packages\\seaborn\\_decorators.py:36: FutureWarning: Pass the following variable as a keyword arg: x. From version 0.12, the only valid positional argument will be `data`, and passing other arguments without an explicit keyword will result in an error or misinterpretation.\n",
      "  warnings.warn(\n"
     ]
    },
    {
     "data": {
      "text/plain": [
       "(array([ 0,  1,  2,  3,  4,  5,  6,  7,  8,  9, 10, 11, 12, 13, 14, 15, 16,\n",
       "        17, 18, 19, 20, 21, 22, 23, 24, 25, 26, 27, 28, 29, 30, 31, 32, 33,\n",
       "        34, 35, 36, 37, 38, 39, 40]),\n",
       " [Text(0, 0, 'Rajiv Gandhi International Stadium, Uppal'),\n",
       "  Text(1, 0, 'Maharashtra Cricket Association Stadium'),\n",
       "  Text(2, 0, 'Saurashtra Cricket Association Stadium'),\n",
       "  Text(3, 0, 'Holkar Cricket Stadium'),\n",
       "  Text(4, 0, 'M Chinnaswamy Stadium'),\n",
       "  Text(5, 0, 'Wankhede Stadium'),\n",
       "  Text(6, 0, 'Eden Gardens'),\n",
       "  Text(7, 0, 'Feroz Shah Kotla'),\n",
       "  Text(8, 0, 'Punjab Cricket Association IS Bindra Stadium, Mohali'),\n",
       "  Text(9, 0, 'Green Park'),\n",
       "  Text(10, 0, 'Punjab Cricket Association Stadium, Mohali'),\n",
       "  Text(11, 0, 'Sawai Mansingh Stadium'),\n",
       "  Text(12, 0, 'MA Chidambaram Stadium, Chepauk'),\n",
       "  Text(13, 0, 'Dr DY Patil Sports Academy'),\n",
       "  Text(14, 0, 'Newlands'),\n",
       "  Text(15, 0, \"St George's Park\"),\n",
       "  Text(16, 0, 'Kingsmead'),\n",
       "  Text(17, 0, 'SuperSport Park'),\n",
       "  Text(18, 0, 'Buffalo Park'),\n",
       "  Text(19, 0, 'New Wanderers Stadium'),\n",
       "  Text(20, 0, 'De Beers Diamond Oval'),\n",
       "  Text(21, 0, 'OUTsurance Oval'),\n",
       "  Text(22, 0, 'Brabourne Stadium'),\n",
       "  Text(23, 0, 'Sardar Patel Stadium, Motera'),\n",
       "  Text(24, 0, 'Barabati Stadium'),\n",
       "  Text(25, 0, 'Vidarbha Cricket Association Stadium, Jamtha'),\n",
       "  Text(26, 0, 'Himachal Pradesh Cricket Association Stadium'),\n",
       "  Text(27, 0, 'Nehru Stadium'),\n",
       "  Text(28, 0, 'Dr. Y.S. Rajasekhara Reddy ACA-VDCA Cricket Stadium'),\n",
       "  Text(29, 0, 'Subrata Roy Sahara Stadium'),\n",
       "  Text(30, 0, 'Shaheed Veer Narayan Singh International Stadium'),\n",
       "  Text(31, 0, 'JSCA International Stadium Complex'),\n",
       "  Text(32, 0, 'Sheikh Zayed Stadium'),\n",
       "  Text(33, 0, 'Sharjah Cricket Stadium'),\n",
       "  Text(34, 0, 'Dubai International Cricket Stadium'),\n",
       "  Text(35, 0, 'M. A. Chidambaram Stadium'),\n",
       "  Text(36, 0, 'Feroz Shah Kotla Ground'),\n",
       "  Text(37, 0, 'M. Chinnaswamy Stadium'),\n",
       "  Text(38, 0, 'Rajiv Gandhi Intl. Cricket Stadium'),\n",
       "  Text(39, 0, 'IS Bindra Stadium'),\n",
       "  Text(40, 0, 'ACA-VDCA Stadium')])"
      ]
     },
     "execution_count": 58,
     "metadata": {},
     "output_type": "execute_result"
    },
    {
     "data": {
      "image/png": "[encoded data removed]",
      "text/plain": [
       "<Figure size 432x288 with 1 Axes>"
      ]
     },
     "metadata": {
      "needs_background": "light"
     },
     "output_type": "display_data"
    }
   ],
   "source": [
    "sns.countplot(matches.venue)\n",
    "plt.xticks(rotation=90)"
   ]
  },
  {
   "cell_type": "code",
   "execution_count": 59,
   "id": "2d86d75a",
   "metadata": {},
   "outputs": [
    {
     "data": {
      "text/plain": [
       "2"
      ]
     },
     "execution_count": 59,
     "metadata": {},
     "output_type": "execute_result"
    }
   ],
   "source": [
    "#umpire1\n",
    "matches.umpire1.isnull().sum()"
   ]
  },
  {
   "cell_type": "code",
   "execution_count": 60,
   "id": "91230770",
   "metadata": {},
   "outputs": [],
   "source": [
    " #having the 2 null values umpire1 is no relvant "
   ]
  },
  {
   "cell_type": "code",
   "execution_count": 61,
   "id": "6d187fa6",
   "metadata": {},
   "outputs": [
    {
     "data": {
      "text/plain": [
       "(756, 16)"
      ]
     },
     "execution_count": 61,
     "metadata": {},
     "output_type": "execute_result"
    }
   ],
   "source": [
    "#for our analysis so we are going to remove the umpire1 column\n",
    "matches.drop(\"umpire1\", axis = 1, inplace = True)\n",
    "matches.shape\n"
   ]
  },
  {
   "cell_type": "code",
   "execution_count": 62,
   "id": "22ffe892",
   "metadata": {},
   "outputs": [
    {
     "data": {
      "text/plain": [
       "2"
      ]
     },
     "execution_count": 62,
     "metadata": {},
     "output_type": "execute_result"
    }
   ],
   "source": [
    "#umpire2\n",
    "matches.umpire2.isnull().sum()"
   ]
  },
  {
   "cell_type": "code",
   "execution_count": 63,
   "id": "9249b56b",
   "metadata": {},
   "outputs": [
    {
     "data": {
      "text/plain": [
       "(756, 15)"
      ]
     },
     "execution_count": 63,
     "metadata": {},
     "output_type": "execute_result"
    }
   ],
   "source": [
    "#for our analysis so we are going to remove the umpire2 column\n",
    "matches.drop(\"umpire2\", axis = 1, inplace = True)\n",
    "matches.shape\n"
   ]
  },
  {
   "cell_type": "code",
   "execution_count": 64,
   "id": "7c214c93",
   "metadata": {},
   "outputs": [
    {
     "data": {
      "text/plain": [
       "0.8425925925925926"
      ]
     },
     "execution_count": 64,
     "metadata": {},
     "output_type": "execute_result"
    }
   ],
   "source": [
    "#umpire3\n",
    "matches.umpire3.isnull().sum()\n",
    "matches.umpire3.isnull().mean() "
   ]
  },
  {
   "cell_type": "code",
   "execution_count": 65,
   "id": "56b76d7c",
   "metadata": {},
   "outputs": [],
   "source": [
    " #0.8425 % or 637 of null or 637 values present in the umpire3 column and "
   ]
  },
  {
   "cell_type": "code",
   "execution_count": 66,
   "id": "522aa42b",
   "metadata": {},
   "outputs": [
    {
     "data": {
      "text/plain": [
       "(756, 14)"
      ]
     },
     "execution_count": 66,
     "metadata": {},
     "output_type": "execute_result"
    }
   ],
   "source": [
    "#which are not relevent to data analysization of data\n",
    "matches.umpire3.isnull().mean() \n",
    "matches.drop(\"umpire3\", axis = 1, inplace = True)\n",
    "matches.shape\n"
   ]
  },
  {
   "cell_type": "code",
   "execution_count": 67,
   "id": "9102254e",
   "metadata": {},
   "outputs": [
    {
     "data": {
      "text/plain": [
       "Season             0\n",
       "city               0\n",
       "date               0\n",
       "team1              0\n",
       "team2              0\n",
       "toss_winner        0\n",
       "toss_decision      0\n",
       "result             0\n",
       "dl_applied         0\n",
       "winner             0\n",
       "win_by_runs        0\n",
       "win_by_wickets     0\n",
       "player_of_match    0\n",
       "venue              0\n",
       "dtype: int64"
      ]
     },
     "execution_count": 67,
     "metadata": {},
     "output_type": "execute_result"
    }
   ],
   "source": [
    "matches.isnull().sum()"
   ]
  },
  {
   "cell_type": "markdown",
   "id": "19ee06e0",
   "metadata": {},
   "source": [
    "## Thank You"
   ]
  }
 ],
 "metadata": {
  "kernelspec": {
   "display_name": "Python 3",
   "language": "python",
   "name": "python3"
  },
  "language_info": {
   "codemirror_mode": {
    "name": "ipython",
    "version": 3
   },
   "file_extension": ".py",
   "mimetype": "text/x-python",
   "name": "python",
   "nbconvert_exporter": "python",
   "pygments_lexer": "ipython3",
   "version": "3.8.8"
  }
 },
 "nbformat": 4,
 "nbformat_minor": 5
}
